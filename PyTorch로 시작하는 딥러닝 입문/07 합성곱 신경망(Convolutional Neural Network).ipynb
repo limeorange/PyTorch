{
 "cells": [
  {
   "cell_type": "code",
   "execution_count": 1,
   "id": "20b15302",
   "metadata": {
    "ExecuteTime": {
     "end_time": "2022-04-05T02:29:21.783219Z",
     "start_time": "2022-04-05T02:29:21.770551Z"
    }
   },
   "outputs": [],
   "source": [
    "# 결과 확인을 용이하게 하기 위한 코드\n",
    "from IPython.core.interactiveshell import InteractiveShell\n",
    "InteractiveShell.ast_node_interactivity = 'all'"
   ]
  },
  {
   "cell_type": "markdown",
   "id": "b2f83b05",
   "metadata": {},
   "source": [
    "# CNN으로 MNIST 분류하기"
   ]
  },
  {
   "cell_type": "markdown",
   "id": "20bb81be",
   "metadata": {},
   "source": [
    "## 모델 이해하기\n",
    "- 합성곱 신경망은 출처에 따라서 합성곱 층을 부르는 단위가 다름\n",
    "\n",
    "**1. 첫 번째 표기 방법**\n",
    "\n",
    "합성곱(nn.Cov2d) + 활성화 함수(nn.ReLU)를 하나의 합성곱 층으로 보고, 맥스풀링(nn.MaxPoold2d)은 풀링 층으로 별도로 명명\n",
    "\n",
    "**2. 두 번째 표기 방법**\n",
    "\n",
    "합성곱(nn.Conv2d) + 활성화 함수(nn.ReLU) + 맥스풀링(nn.MaxPoold2d)을 하나의 합성곱 층으로 봄\n",
    "\n",
    "\n",
    "\n",
    "- 즉, pooling도 하나의 층으로 보느냐의 문제인데 누가 옳고 틀리냐의 문제는 아니므로 이번 챕터에서는 편의를 위해 두 번째 표기 방법 채택함\n",
    "- 모델의 아키텍처는 총 3개의 층으로 구성됨"
   ]
  },
  {
   "cell_type": "code",
   "execution_count": null,
   "id": "d81e8047",
   "metadata": {},
   "outputs": [],
   "source": [
    "# 1번 layer : 합성곱층(Convolutional layer)\n",
    "합성곱(in_channel = 1, out_channel = 32, kernel_size = 3, stride = 1, padding = 1) + 활성화 함수 ReLU\n",
    "맥스풀링(kernel_size = 2, stride = 2)\n",
    "\n",
    "# 2번 layer : 합성곱층(Convolutional layer)\n",
    "합성곱(in_channel = 32, out_channel = 64, kernel_size = 3, stride = 1, padding = 1) + 활성화 함수 ReLU\n",
    "맥스풀링(kernel_size = 2, stride = 2)\n",
    "\n",
    "# 3번 layer : 전결합층(Fully-Connected layer)\n",
    "특성맵을 펼친다. # batch_size x 7 x 7 x 64 -> batch_size x 3136\n",
    "전결합층(뉴런 10개) + 활성화 함수 Softmax"
   ]
  },
  {
   "cell_type": "markdown",
   "id": "2c01c2f1",
   "metadata": {},
   "source": [
    "## 모델 구현하기"
   ]
  },
  {
   "cell_type": "code",
   "execution_count": 4,
   "id": "3c7382c1",
   "metadata": {
    "ExecuteTime": {
     "end_time": "2022-04-05T02:43:05.502075Z",
     "start_time": "2022-04-05T02:43:05.498679Z"
    }
   },
   "outputs": [
    {
     "name": "stdout",
     "output_type": "stream",
     "text": [
      "텐서의 크기 : torch.Size([1, 1, 28, 28])\n"
     ]
    }
   ],
   "source": [
    "# 1. 필요한 도구 import와 입력의 정의\n",
    "import torch\n",
    "import torch.nn as nn\n",
    "\n",
    "# (batch_size, channel, height, width) 크기의 텐서 선언\n",
    "inputs = torch.Tensor(1, 1, 28, 28)\n",
    "print('텐서의 크기 : {}'.format(inputs.shape))"
   ]
  },
  {
   "cell_type": "code",
   "execution_count": 8,
   "id": "e6c89246",
   "metadata": {
    "ExecuteTime": {
     "end_time": "2022-04-05T02:46:09.976852Z",
     "start_time": "2022-04-05T02:46:09.971786Z"
    }
   },
   "outputs": [
    {
     "name": "stdout",
     "output_type": "stream",
     "text": [
      "Conv2d(1, 32, kernel_size=(3, 3), stride=(1, 1), padding=(1, 1))\n",
      "Conv2d(32, 64, kernel_size=(3, 3), stride=(1, 1), padding=(1, 1))\n",
      "MaxPool2d(kernel_size=2, stride=2, padding=0, dilation=1, ceil_mode=False)\n"
     ]
    }
   ],
   "source": [
    "# 2. 합성곱층과 풀링 선언하기\n",
    "# (c, h, w) = (1, 28, 28)의 데이터가 1만큼 padding을 한 후 (3, 3) 필터와 convolution을 함\n",
    "# O_h = (28 - 3 + 1*2)//1 + 1 = 28 / O_w = (28 - 3 + 1*2)//1 + 1 = 28\n",
    "# 특성맵의 채널 수(C_0)는 nn.Conv2d()의 in_channel, out_channel로 조절하는 듯\n",
    "\n",
    "conv1 = nn.Conv2d(1, 32, 3, padding=1) # in_channel, out_channel, kernel_size, padding\n",
    "print(conv1)\n",
    "\n",
    "conv2 = nn.Conv2d(32, 64, 3, padding=1) # in_channel, out_channel, kernel_size, padding\n",
    "print(conv2)\n",
    "\n",
    "pool = nn.MaxPool2d(2) # 정수 하나를 인자로 넣으면 kernel_size, stride가 둘 다 해당 값으로 지정됨\n",
    "print(pool)"
   ]
  },
  {
   "cell_type": "code",
   "execution_count": 13,
   "id": "716206e3",
   "metadata": {
    "ExecuteTime": {
     "end_time": "2022-04-05T02:58:31.643766Z",
     "start_time": "2022-04-05T02:58:31.638029Z"
    }
   },
   "outputs": [
    {
     "name": "stdout",
     "output_type": "stream",
     "text": [
      "torch.Size([1, 32, 28, 28])\n",
      "torch.Size([1, 32, 14, 14])\n",
      "torch.Size([1, 64, 14, 14])\n",
      "torch.Size([1, 64, 7, 7])\n"
     ]
    }
   ],
   "source": [
    "# 3. 구현체를 연결하여 모델 만들기\n",
    "# 입력(1, 1, 28, 28)을 첫 번째 합성곱층에 통과시키고 난 후의 Tensor의 크기\n",
    "out = conv1(inputs)\n",
    "print(out.shape) # (batch_size, channel, height, width)\n",
    "\n",
    "# maxpooling에 통과시키고 난 후의 Tensor의 크기\n",
    "out = pool(out)\n",
    "print(out.shape)\n",
    "\n",
    "# 이를 다시 두 번째 합성곱층에 통과시키기\n",
    "out = conv2(out)\n",
    "print(out.shape) # 예상 : (1, 64, 14, 14)\n",
    "\n",
    "# 이를 maxpooling에 통과시키기\n",
    "out = pool(out)\n",
    "print(out.shape)"
   ]
  },
  {
   "cell_type": "code",
   "execution_count": 14,
   "id": "a0f2450f",
   "metadata": {
    "ExecuteTime": {
     "end_time": "2022-04-05T03:00:22.848712Z",
     "start_time": "2022-04-05T03:00:22.845275Z"
    }
   },
   "outputs": [
    {
     "name": "stdout",
     "output_type": "stream",
     "text": [
      "torch.Size([1, 3136])\n"
     ]
    }
   ],
   "source": [
    "# .size(n) : 텐서의 n번째 차원에 접근하게 해줌\n",
    "# .view() : reshape 해주는 기능\n",
    "# 첫 번째 차원인 배치 차원은 그대로 두고 나머지 펼치기\n",
    "out = out.view(out.size(0), -1)\n",
    "print(out.shape)"
   ]
  },
  {
   "cell_type": "code",
   "execution_count": 15,
   "id": "542b7461",
   "metadata": {
    "ExecuteTime": {
     "end_time": "2022-04-05T03:01:56.044649Z",
     "start_time": "2022-04-05T03:01:56.033329Z"
    }
   },
   "outputs": [
    {
     "name": "stdout",
     "output_type": "stream",
     "text": [
      "torch.Size([1, 10])\n"
     ]
    }
   ],
   "source": [
    "# 배치 차원을 제외하고 모두 하나의 차원으로 통합됨\n",
    "# 이에 대해 전결합층(Fully-Connected layer)을 통과시키기\n",
    "# 출력층으로 10개의 뉴런을 배치하여 10개 차원의 텐서로 변환함\n",
    "fc = nn.Linear(3136, 10) # i=(input_dim, output_dim)\n",
    "out = fc(out)\n",
    "print(out.shape)"
   ]
  },
  {
   "cell_type": "markdown",
   "id": "be16baac",
   "metadata": {},
   "source": [
    "## CNN으로 MNIST 분류하기"
   ]
  },
  {
   "cell_type": "code",
   "execution_count": 16,
   "id": "950c3079",
   "metadata": {
    "ExecuteTime": {
     "end_time": "2022-04-05T03:03:03.984017Z",
     "start_time": "2022-04-05T03:03:03.728969Z"
    }
   },
   "outputs": [],
   "source": [
    "import torch\n",
    "import torchvision.datasets as dsets\n",
    "import torchvision.transforms as transforms\n",
    "import torch.nn.init"
   ]
  },
  {
   "cell_type": "markdown",
   "id": "440eedbd",
   "metadata": {},
   "source": [
    "만약 GPU를 사용 가능하다면 device 값이 cuda가 되고, 아니면 cpu가 됨"
   ]
  },
  {
   "cell_type": "code",
   "execution_count": 17,
   "id": "64ad9b91",
   "metadata": {
    "ExecuteTime": {
     "end_time": "2022-04-05T03:05:59.696454Z",
     "start_time": "2022-04-05T03:05:59.679721Z"
    }
   },
   "outputs": [
    {
     "data": {
      "text/plain": [
       "<torch._C.Generator at 0x7f9941736af0>"
      ]
     },
     "execution_count": 17,
     "metadata": {},
     "output_type": "execute_result"
    }
   ],
   "source": [
    "device = 'cuda' if torch.cuda.is_available() else 'cpu'\n",
    "\n",
    "# 랜덤 시드 고정\n",
    "torch.manual_seed(777)\n",
    "\n",
    "# GPU 사용 가능일 경우 랜덤 시드 고정\n",
    "if device == 'cuda':\n",
    "    torch.cuda.manual_seed_all(777)"
   ]
  },
  {
   "cell_type": "code",
   "execution_count": 24,
   "id": "6ba00586",
   "metadata": {
    "ExecuteTime": {
     "end_time": "2022-04-05T03:29:15.514769Z",
     "start_time": "2022-04-05T03:29:15.478716Z"
    },
    "scrolled": true
   },
   "outputs": [],
   "source": [
    "# 학습에 사용할 파라미터 설정\n",
    "learning_rate = 0.001\n",
    "training_epochs = 15\n",
    "batch_size = 100\n",
    "\n",
    "# dataloader를 사용하여 데이터를 다루기 위해서 데이터셋 정의\n",
    "# 아직 dataloader 사용 안 한 듯..\n",
    "mnist_train = dsets.MNIST(root = 'MNIST_data/', # 다운로드 경로 지정\n",
    "                         train = True, # True를 지정하면 train 데이터로 다운로드\n",
    "                         transform = transforms.ToTensor(), # 텐서로 변환\n",
    "                         download = True)\n",
    "\n",
    "mnist_test = dsets.MNIST(root = 'MNIST_data/', # 다운로드 경로 지정\n",
    "                         train = False, # False를 지정하면 test 데이터로 다운로드\n",
    "                         transform = transforms.ToTensor(), # 텐서로 변환\n",
    "                         download = True)\n",
    "\n",
    "# dataloader를 사용하여 batch_size를 지정해줌\n",
    "data_loader = torch.utils.data.DataLoader(dataset = mnist_train,\n",
    "                                         batch_size = batch_size,\n",
    "                                         shuffle = True,\n",
    "                                         drop_last = True) # 데이터를 batch_size로 나누었을 때 나머지를 버림"
   ]
  },
  {
   "cell_type": "code",
   "execution_count": 25,
   "id": "e4d08f37",
   "metadata": {
    "ExecuteTime": {
     "end_time": "2022-04-05T03:29:16.980197Z",
     "start_time": "2022-04-05T03:29:16.974484Z"
    }
   },
   "outputs": [],
   "source": [
    "# 클래스로 모델 설계\n",
    "class CNN(torch.nn.Module):\n",
    "    def __init__(self):\n",
    "        super(CNN, self).__init__()\n",
    "        # 1번째 층\n",
    "        # ImgIn shape = (?, 28, 28, 1) = (batch_size, h, w, c) 인듯?\n",
    "        # Conv -> (?, 28, 28, 32)\n",
    "        # Pool -> (?, 14, 14, 32)\n",
    "        self.layer1 = torch.nn.Sequential(\n",
    "            torch.nn.Conv2d(1, 32, kernel_size=3, stride=1, padding=1),\n",
    "            torch.nn.ReLU(),\n",
    "            torch.nn.MaxPool2d(kernel_size=2, stride=2))\n",
    "        \n",
    "        # 2번째 층\n",
    "        # ImgIn shape = (?, 14, 14, 32)\n",
    "        # Conv -> (?, 14, 14, 64)\n",
    "        # Pool -> (?, 7, 7, 64)   \n",
    "        self.layer2 = torch.nn.Sequential(\n",
    "            torch.nn.Conv2d(32, 64, kernel_size=3, stride=1, padding=1),\n",
    "            torch.nn.ReLU(),\n",
    "            torch.nn.MaxPool2d(kernel_size=2, stride=2))\n",
    "        \n",
    "        # 전결합층 7 x 7 x 64 inputs -> 10 outputs\n",
    "        self.fc = torch.nn.Linear(7 * 7 * 64, 10, bias=True)\n",
    "        \n",
    "        # 전결합층 한정으로 가중치 초기화\n",
    "        torch.nn.init.xavier_uniform_(self.fc.weight)\n",
    "    \n",
    "    def forward(self, x):\n",
    "        out = self.layer1(x)\n",
    "        out = self.layer2(out)\n",
    "        out = out.view(out.size(0), -1) # 전결합층을 위해서 flatten\n",
    "        out = self.fc(out)\n",
    "        return out"
   ]
  },
  {
   "cell_type": "code",
   "execution_count": 30,
   "id": "d5e60d87",
   "metadata": {
    "ExecuteTime": {
     "end_time": "2022-04-05T03:29:45.238335Z",
     "start_time": "2022-04-05T03:29:45.233899Z"
    }
   },
   "outputs": [],
   "source": [
    "# CNN 모델 정의하기\n",
    "model = CNN().to(device)\n",
    "\n",
    "# cost function과 optimizer 정의하기\n",
    "criterion = torch.nn.CrossEntropyLoss().to(device) # 손실 함수에 softmax 함수 포함되어 있음\n",
    "optimizer = torch.optim.Adam(model.parameters(), lr=learning_rate)"
   ]
  },
  {
   "cell_type": "code",
   "execution_count": 31,
   "id": "ec24f245",
   "metadata": {
    "ExecuteTime": {
     "end_time": "2022-04-05T04:32:13.337190Z",
     "start_time": "2022-04-05T04:32:13.334505Z"
    }
   },
   "outputs": [
    {
     "name": "stdout",
     "output_type": "stream",
     "text": [
      "총 배치의 수 : 600\n"
     ]
    }
   ],
   "source": [
    "# 총 배치의 수\n",
    "# batch_size = 100으로 했으므로 train data의 총 개수가 60,000개임\n",
    "total_batch = len(data_loader)\n",
    "print('총 배치의 수 : {}'.format(total_batch))"
   ]
  },
  {
   "cell_type": "code",
   "execution_count": 58,
   "id": "9211dc98",
   "metadata": {
    "ExecuteTime": {
     "end_time": "2022-04-05T06:00:35.977876Z",
     "start_time": "2022-04-05T05:50:57.871240Z"
    }
   },
   "outputs": [
    {
     "name": "stdout",
     "output_type": "stream",
     "text": [
      "[Epoch:    1] cost = 0.00537449541\n",
      "[Epoch:    2] cost = 0.00516238436\n",
      "[Epoch:    3] cost = 0.00134891795\n",
      "[Epoch:    4] cost = 0.000296522252\n",
      "[Epoch:    5] cost = 3.83469051e-05\n",
      "[Epoch:    6] cost = 1.71281372e-05\n",
      "[Epoch:    7] cost = 1.27903522e-05\n",
      "[Epoch:    8] cost = 9.87666954e-06\n",
      "[Epoch:    9] cost = 7.80600931e-06\n",
      "[Epoch:   10] cost = 6.2441386e-06\n",
      "[Epoch:   11] cost = 4.98965755e-06\n",
      "[Epoch:   12] cost = 4.03938338e-06\n",
      "[Epoch:   13] cost = 3.18378625e-06\n",
      "[Epoch:   14] cost = 2.48596734e-06\n",
      "[Epoch:   15] cost = 1.96097631e-06\n"
     ]
    }
   ],
   "source": [
    "# 모델 훈련시키기 -> test_acc : 98.9\n",
    "# epoch : 전체 트레이닝 셋(60,000개의 데이터)이 순전파, 역전파를 통해 신경망을 통과한 횟수\n",
    "\n",
    "for epoch in range(training_epochs): # 전체 학습 과정을 15번 반복함\n",
    "    avg_cost = 0\n",
    "    \n",
    "    for X, Y in data_loader: # mini batch 단위로 꺼내옴. X는 mini batch, Y는 label\n",
    "        # X.shape = (28, 28)\n",
    "        # Y : not one-hot encoded\n",
    "        X = X.to(device)\n",
    "        Y = Y.to(device)\n",
    "        \n",
    "        optimizer.zero_grad() \n",
    "        # 미분을 통해 얻은 기울기를 0으로 초기화\n",
    "        # 기울기를 초기화하여야만 새로운 w, b에 대한 새로운 기울기를 구할 수 있음 \n",
    "        # PyTorch에서는 gradients값들을 추후 backward를 해줄 때 계속 더해주기 때문에\n",
    "        # 이상적으로 학습이 이루어지려면 한 번의 학습이 완료되어지면 gradients를 항상 0으로 만들어줘야 함\n",
    "        \n",
    "        hypothesis = model(X)\n",
    "        cost = criterion(hypothesis, Y)\n",
    "        \n",
    "        # 손실 함수를 미분하여 w, b에 대한 gradient 계산\n",
    "        cost.backward() \n",
    "        \n",
    "        # 인수로 들어갔던 w, b에서 리턴되는 변수들의 기울기에 learning_rate를 곱하여 빼줌으로써 업데이트\n",
    "        optimizer.step() \n",
    "\n",
    "        avg_cost += cost / total_batch # total_batch : 600 / total_batch를 나중에 나눠줘도 되지 않음?\n",
    "    \n",
    "    print('[Epoch: {:>4}] cost = {:>.9}'.format(epoch + 1, avg_cost))\n",
    "    # {:>4} : 4자리 오른쪽 정렬\n",
    "    # {:>.9} : 소수점 9자리 오른쪽 정렬"
   ]
  },
  {
   "cell_type": "code",
   "execution_count": 51,
   "id": "37dc29a5",
   "metadata": {
    "ExecuteTime": {
     "end_time": "2022-04-05T05:43:17.839814Z",
     "start_time": "2022-04-05T05:33:29.776936Z"
    }
   },
   "outputs": [
    {
     "name": "stdout",
     "output_type": "stream",
     "text": [
      "[Epoch:    1] cost = 0.00319483457\n",
      "[Epoch:    2] cost = 0.00121779973\n",
      "[Epoch:    3] cost = 0.00222596992\n",
      "[Epoch:    4] cost = 0.00187778776\n",
      "[Epoch:    5] cost = 0.000289090327\n",
      "[Epoch:    6] cost = 4.45629303e-05\n",
      "[Epoch:    7] cost = 2.85160913e-05\n",
      "[Epoch:    8] cost = 1.49460056e-05\n",
      "[Epoch:    9] cost = 1.16581878e-05\n",
      "[Epoch:   10] cost = 9.01890689e-06\n",
      "[Epoch:   11] cost = 7.22428331e-06\n",
      "[Epoch:   12] cost = 5.73538728e-06\n",
      "[Epoch:   13] cost = 4.62762409e-06\n",
      "[Epoch:   14] cost = 3.75624813e-06\n",
      "[Epoch:   15] cost = 2.82945666e-06\n"
     ]
    }
   ],
   "source": [
    "# 모델 훈련시키기 (total_batch를 나중에 나눠준 ver.) -> test_acc : 98.9\n",
    "# epoch : 전체 트레이닝 셋(60,000개의 데이터)이 순전파, 역전파를 통해 신경망을 통과한 횟수\n",
    "\n",
    "for epoch in range(training_epochs): # 전체 학습 과정을 15번 반복함\n",
    "    \n",
    "    cost_sum = 0\n",
    "    \n",
    "    for X, Y in data_loader: # mini batch 단위로 꺼내옴. X는 mini batch, Y는 label\n",
    "        # X.shape = (28, 28)\n",
    "        # Y : not one-hot encoded\n",
    "        X = X.to(device)\n",
    "        Y = Y.to(device)\n",
    "        \n",
    "        optimizer.zero_grad() \n",
    "        # 미분을 통해 얻은 기울기를 0으로 초기화\n",
    "        # 기울기를 초기화하여야만 새로운 w, b에 대한 새로운 기울기를 구할 수 있음 \n",
    "        # PyTorch에서는 gradients값들을 추후 backward를 해줄 때 계속 더해주기 때문에\n",
    "        # 이상적으로 학습이 이루어지려면 한 번의 학습이 완료되어지면 gradients를 항상 0으로 만들어줘야 함\n",
    "        \n",
    "        hypothesis = model(X)\n",
    "        cost = criterion(hypothesis, Y)\n",
    "        \n",
    "        # 손실 함수를 미분하여 w, b에 대한 gradient 계산\n",
    "        cost.backward() \n",
    "        \n",
    "        # 인수로 들어갔던 w, b에서 리턴되는 변수들의 기울기에 learning_rate를 곱하여 빼줌으로써 업데이트\n",
    "        optimizer.step() \n",
    "\n",
    "        cost_sum += cost \n",
    "    \n",
    "    avg_cost = cost_sum / total_batch\n",
    "    print('[Epoch: {:>4}] cost = {:>.9}'.format(epoch + 1, avg_cost))\n",
    "    # {:>4} : 4자리 오른쪽 정렬\n",
    "    # {:>.9} : 소수점 9자리 오른쪽 정렬"
   ]
  },
  {
   "cell_type": "code",
   "execution_count": 60,
   "id": "834f6643",
   "metadata": {
    "ExecuteTime": {
     "end_time": "2022-04-05T06:00:39.075516Z",
     "start_time": "2022-04-05T06:00:35.983922Z"
    }
   },
   "outputs": [
    {
     "name": "stdout",
     "output_type": "stream",
     "text": [
      "1. prediction.shape --  torch.Size([10000, 10])\n",
      "2. type(correct_prediction) --  <class 'torch.Tensor'>\n",
      "3. correct_prediction.shape --  torch.Size([10000])\n",
      "4. accuracy --  tensor(0.9894)\n",
      "5. accuracy.item() --  0.9894000291824341\n"
     ]
    }
   ],
   "source": [
    "# 테스트 해보기\n",
    "# 학습을 진행하지 않을 것이므로 torch.no_grad()\n",
    "\n",
    "with torch.no_grad():\n",
    "    X_test = mnist_test.test_data.view(len(mnist_test), 1, 28, 28).float().to(device)\n",
    "    Y_test = mnist_test.test_labels.to(device)\n",
    "    \n",
    "    prediction = model(X_test)\n",
    "    print('1. prediction.shape -- ',prediction.shape)\n",
    "    \n",
    "    # 각 배치별로 가장 높은 가능성의 숫자 클래스를 뽑아서 정답과 맞는지 확인 후 boolean값으로 저장\n",
    "    correct_prediction = torch.argmax(prediction, dim=1) == Y_test\n",
    "    print('2. type(correct_prediction) -- ', type(correct_prediction))\n",
    "    print('3. correct_prediction.shape -- ', correct_prediction.shape)\n",
    "    \n",
    "    # boolean -> float 형 변환 후 평균 구하기\n",
    "    accuracy = correct_prediction.float().mean()\n",
    "    print('4. accuracy -- ', accuracy)\n",
    "    print('5. accuracy.item() -- ', accuracy.item())"
   ]
  },
  {
   "cell_type": "markdown",
   "id": "c6865815",
   "metadata": {},
   "source": [
    "# 깊은 CNN으로 MNIST 분류하기\n",
    "- 앞서 배운 CNN에 층을 더 추가하여 MNIST를 분류할 것임"
   ]
  },
  {
   "cell_type": "markdown",
   "id": "ec58bcb6",
   "metadata": {},
   "source": [
    "## 모델 이해하기\n",
    "- 모델의 아키텍처는 총 5개의 층으로 구성됨\n",
    "- 앞서 배운 챕터에서 1번 레이어와 2번 레이어는 동일하되, 새로운 합성곱층과 전결합층을 추가함"
   ]
  },
  {
   "cell_type": "code",
   "execution_count": null,
   "id": "16340bcf",
   "metadata": {},
   "outputs": [],
   "source": [
    "# 1번 layer : 합성곱층(Convolutional layer)\n",
    "nn.Conv2d(in_channel = 1, out_channel = 32, kernel_size = 3, stride = 1, padding = 1) + ReLU\n",
    "MaxPool2d(kernel_size = 2, stride = 2)\n",
    "\n",
    "# 2번 layer : 합성곱층(Convolutional layer)\n",
    "nn.Conv2d(in_channel = 32, out_channel = 64, kernel_size = 3, stride = 1, padding = 1) + ReLU\n",
    "MaxPool2d(kernel_size = 2, stride = 2)\n",
    "\n",
    "# 3번 layer : 합성곱층(Convolutional layer)\n",
    "nn.Conv2d(in_channel = 64, out_channel = 128, kernel_size = 3, stride = 1, padding = 1) + ReLU\n",
    "MaxPool2d(kernel_size = 2, stride = 2, padding = 1)\n",
    "\n",
    "# 4번 layer : 전결합층(Fully-Connected layer)\n",
    "특성맵을 펼침 # batch_size * 4 * 4 * 128 -> batch_size * 2048\n",
    "FC(뉴런 625개) + ReLU\n",
    "\n",
    "# 5번 layer : 전결합층(Fully-Connected layer)\n",
    "FC(뉴런 10개) + Softmax"
   ]
  },
  {
   "cell_type": "markdown",
   "id": "be78571d",
   "metadata": {},
   "source": [
    "## 깊은 CNN으로 MNIST 분류하기"
   ]
  },
  {
   "cell_type": "code",
   "execution_count": 59,
   "id": "12283cc1",
   "metadata": {
    "ExecuteTime": {
     "end_time": "2022-04-05T06:00:35.982555Z",
     "start_time": "2022-04-05T06:00:35.980122Z"
    }
   },
   "outputs": [],
   "source": [
    "import torch\n",
    "import torchvision.datasets as dsets\n",
    "import torchvision.transforms as transforms\n",
    "import torch.nn.init"
   ]
  },
  {
   "cell_type": "code",
   "execution_count": null,
   "id": "d466df66",
   "metadata": {},
   "outputs": [],
   "source": [
    "device = 'cuda' if torch.cuda.is_available() else 'cpu'\n",
    "\n",
    "# 랜덤 시드 고정\n",
    "torch.manual_seed(777)\n",
    "\n",
    "# GPU 사용 가능일 경우 랜덤 시드 고정\n",
    "if device == 'cuda':\n",
    "    torch.cuda.manual_seed_all(777)"
   ]
  },
  {
   "cell_type": "code",
   "execution_count": 62,
   "id": "9bd24f2b",
   "metadata": {
    "ExecuteTime": {
     "end_time": "2022-04-05T06:18:35.342177Z",
     "start_time": "2022-04-05T06:18:35.284009Z"
    }
   },
   "outputs": [],
   "source": [
    "# 학습에 사용할 parameter 설정\n",
    "learning_rate = 0.001\n",
    "training_epochs = 15\n",
    "batch_size = 100\n",
    "\n",
    "# 데이터셋 정의\n",
    "mnist_train = dsets.MNIST(root='MNIST_data/', # 다운로드 경로 지정\n",
    "                          train=True, # True를 지정하면 훈련 데이터로 다운로드\n",
    "                          transform=transforms.ToTensor(), # 텐서로 변환\n",
    "                          download=True)\n",
    "\n",
    "mnist_test = dsets.MNIST(root='MNIST_data/', # 다운로드 경로 지정\n",
    "                         train=False, # False를 지정하면 테스트 데이터로 다운로드\n",
    "                         transform=transforms.ToTensor(), # 텐서로 변환\n",
    "                         download=True)\n",
    "\n",
    "# dataloader를 사용하여 batch_size 지정\n",
    "data_loader = torch.utils.data.DataLoader(dataset = mnist_train,\n",
    "                                         batch_size = batch_size,\n",
    "                                         shuffle = True,\n",
    "                                         drop_last = True)\n",
    "\n",
    "# 클래스로 모델 설계\n",
    "class CNN(torch.nn.Module):\n",
    "    \n",
    "    def __init__(self):\n",
    "        super(CNN, self).__init__()\n",
    "        self.keep_prob = 0.5\n",
    "        \n",
    "        '''\n",
    "        L1 ImgIn shape = (?, 28, 28, 1)\n",
    "        Conv = (?, 28, 28, 32) = (batch_size, h, w, c)\n",
    "        Pool = (?, 14, 14, 32) = (batch_size, h, w, c)\n",
    "        '''\n",
    "        self.layer1 = torch.nn.Sequential(\n",
    "            torch.nn.Conv2d(1, 32, kernel_size = 3, stride = 1, padding = 1), # in_channels, out_channels\n",
    "            torch.nn.ReLU(),\n",
    "            torch.nn.MaxPool2d(kernel_size = 2, stride = 2))\n",
    "        \n",
    "        '''\n",
    "        L2 ImgIn shape = (?, 14, 14, 32)\n",
    "        Conv = (?, 14, 14, 64) = (batch_size, h, w, c)\n",
    "        Pool = (?, 7, 7, 64) = (batch_size, h, w, c)        \n",
    "        '''\n",
    "        self.layer2 = torch.nn.Sequential(\n",
    "            torch.nn.Conv2d(32, 64, kernel_size = 3, stride = 1, padding = 1),\n",
    "            torch.nn.ReLU(),\n",
    "            torch.nn.MaxPool2d(kernel_size = 2, stride = 2))\n",
    "        \n",
    "        '''\n",
    "        L3 ImgIn shape = (?, 7, 7, 64)\n",
    "        Conv = (?, 7, 7, 128) = (batch_size, h, w, c)\n",
    "        Pool = (?, 4, 4, 128) = (batch_size, h, w, c)                \n",
    "        '''\n",
    "        self.layer3 = torch.nn.Sequential(\n",
    "            torch.nn.Conv2d(64, 128, kernel_size = 3, stride = 1, padding = 1),\n",
    "            torch.nn.ReLU(),\n",
    "            torch.nn.MaxPool2d(kernel_size = 2, stride = 2, padding = 1))\n",
    "       \n",
    "        '''\n",
    "        L4 FC 4x4x128 inputs -> 625 outputs (625 from where???)\n",
    "        '''\n",
    "        self.fc1 = torch.nn.Linear(4 * 4 * 128, 625, bias = True)\n",
    "        torch.nn.init.xavier_uniform_(self.fc1.weight)\n",
    "        self.layer4 = torch.nn.Sequential(\n",
    "            self.fc1, torch.nn.ReLU(), torch.nn.Dropout(p=1 - self.keep_prob))\n",
    "        \n",
    "        '''\n",
    "        L5 Final FC 625 inputs -> 10 outputs\n",
    "        '''\n",
    "        self.fc2 = torch.nn.Linear(625, 10, bias = True)\n",
    "        torch.nn.init.xavier_uniform_(self.fc2.weight)\n",
    "    \n",
    "    def forward(self, x):\n",
    "        out = self.layer1(x)\n",
    "        out = self.layer2(out)\n",
    "        out = self.layer3(out)\n",
    "        out = out.view(out.size(0), -1) # flatten for FC\n",
    "        out = self.layer4(out)\n",
    "        out = self.fc2(out)\n",
    "        return out"
   ]
  },
  {
   "cell_type": "code",
   "execution_count": null,
   "id": "40cb4ac5",
   "metadata": {
    "ExecuteTime": {
     "start_time": "2022-04-05T06:25:43.802Z"
    }
   },
   "outputs": [
    {
     "name": "stdout",
     "output_type": "stream",
     "text": [
      "총 batch의 수 : 600\n",
      "[Epoch:    1] cost = 0.198703051\n",
      "[Epoch:    2] cost = 0.0517416932\n"
     ]
    }
   ],
   "source": [
    "# CNN 모델 정의\n",
    "model = CNN().to(device)\n",
    "\n",
    "# 손실함수와 optimizer 정의\n",
    "criterion = torch.nn.CrossEntropyLoss().to(device) # 손실 함수에 softmax 함수 포함되어 있음\n",
    "optimizer = torch.optim.Adam(model.parameters(), lr=learning_rate)\n",
    "\n",
    "total_batch = len(data_loader)\n",
    "print('총 batch의 수 : {}'.format(total_batch))\n",
    "\n",
    "# 모델 훈련시키기\n",
    "for epoch in range(training_epochs):\n",
    "    avg_cost = 0\n",
    "    \n",
    "    for X, Y in data_loader:\n",
    "        X = X.to(device)\n",
    "        Y = Y.to(device)\n",
    "        \n",
    "        optimizer.zero_grad()\n",
    "        hypothesis = model(X) # 변수명 왜 hypothesis???\n",
    "        cost = criterion(hypothesis, Y)\n",
    "        cost.backward()\n",
    "        optimizer.step()\n",
    "        \n",
    "        avg_cost += cost / total_batch\n",
    "    \n",
    "    print('[Epoch: {:>4}] cost = {:>.9}'.format(epoch + 1, avg_cost))"
   ]
  },
  {
   "cell_type": "code",
   "execution_count": null,
   "id": "3045b274",
   "metadata": {
    "ExecuteTime": {
     "start_time": "2022-04-05T06:26:06.156Z"
    }
   },
   "outputs": [],
   "source": [
    "# 학습을 진행하지 않을 것이므로 torch.no_grad()\n",
    "with torch.no_grad():\n",
    "    X_test = mnist_test.test_data.view(len(mnist_test), 1, 28, 28).float().to(device)\n",
    "    Y_test = mnist_test.test_labels.to(device)\n",
    "\n",
    "    prediction = model(X_test)\n",
    "    correct_prediction = torch.argmax(prediction, 1) == Y_test\n",
    "    accuracy = correct_prediction.float().mean()\n",
    "    print('Accuracy:', accuracy.item())"
   ]
  }
 ],
 "metadata": {
  "kernelspec": {
   "display_name": "Python 3 (ipykernel)",
   "language": "python",
   "name": "python3"
  },
  "language_info": {
   "codemirror_mode": {
    "name": "ipython",
    "version": 3
   },
   "file_extension": ".py",
   "mimetype": "text/x-python",
   "name": "python",
   "nbconvert_exporter": "python",
   "pygments_lexer": "ipython3",
   "version": "3.9.10"
  },
  "toc": {
   "base_numbering": 1,
   "nav_menu": {},
   "number_sections": true,
   "sideBar": true,
   "skip_h1_title": false,
   "title_cell": "Table of Contents",
   "title_sidebar": "Contents",
   "toc_cell": false,
   "toc_position": {
    "height": "calc(100% - 180px)",
    "left": "10px",
    "top": "150px",
    "width": "225px"
   },
   "toc_section_display": true,
   "toc_window_display": false
  }
 },
 "nbformat": 4,
 "nbformat_minor": 5
}
