{
 "cells": [
  {
   "cell_type": "code",
   "execution_count": 1,
   "id": "85182fed",
   "metadata": {
    "ExecuteTime": {
     "end_time": "2022-04-06T02:16:03.623124Z",
     "start_time": "2022-04-06T02:16:03.610749Z"
    }
   },
   "outputs": [],
   "source": [
    "# 결과 확인을 용이하게 하기 위한 코드\n",
    "from IPython.core.interactiveshell import InteractiveShell\n",
    "InteractiveShell.ast_node_interactivity = 'all'"
   ]
  },
  {
   "cell_type": "markdown",
   "id": "e2676b26",
   "metadata": {},
   "source": [
    "# 선형 회귀 (Linear Regression)"
   ]
  },
  {
   "cell_type": "markdown",
   "id": "610e1e5e",
   "metadata": {},
   "source": [
    "## 기본 셋팅"
   ]
  },
  {
   "cell_type": "code",
   "execution_count": 3,
   "id": "fee642f7",
   "metadata": {
    "ExecuteTime": {
     "end_time": "2022-04-06T02:18:52.828195Z",
     "start_time": "2022-04-06T02:18:52.811995Z"
    }
   },
   "outputs": [
    {
     "data": {
      "text/plain": [
       "<torch._C.Generator at 0x7f826b735a70>"
      ]
     },
     "execution_count": 3,
     "metadata": {},
     "output_type": "execute_result"
    }
   ],
   "source": [
    "import torch\n",
    "import torch.nn as nn\n",
    "import torch.nn.functional as F\n",
    "import torch.optim as optim\n",
    "\n",
    "# 현재 실습하고 있는 Python 코드를 재실행해도 같은 결과가 나오도록 random seed 설정하기\n",
    "torch.manual_seed(1)"
   ]
  },
  {
   "cell_type": "markdown",
   "id": "f5d3a92f",
   "metadata": {},
   "source": [
    "## 변수 선언"
   ]
  },
  {
   "cell_type": "code",
   "execution_count": 5,
   "id": "d8a467dd",
   "metadata": {
    "ExecuteTime": {
     "end_time": "2022-04-06T02:20:07.382077Z",
     "start_time": "2022-04-06T02:20:07.376712Z"
    }
   },
   "outputs": [
    {
     "name": "stdout",
     "output_type": "stream",
     "text": [
      "tensor([[1.],\n",
      "        [2.],\n",
      "        [3.]])\n",
      "torch.Size([3, 1])\n",
      "tensor([[2.],\n",
      "        [4.],\n",
      "        [6.]])\n",
      "torch.Size([3, 1])\n"
     ]
    }
   ],
   "source": [
    "x_train = torch.FloatTensor([[1],[2],[3]])\n",
    "y_train = torch.FloatTensor([[2],[4],[6]])\n",
    "\n",
    "print(x_train)\n",
    "print(x_train.shape)\n",
    "print(y_train)\n",
    "print(y_train.shape)"
   ]
  },
  {
   "cell_type": "markdown",
   "id": "2898abfc",
   "metadata": {},
   "source": [
    "## 가중치와 편향의 초기화 (W, b)"
   ]
  },
  {
   "cell_type": "code",
   "execution_count": 7,
   "id": "d6e96f2c",
   "metadata": {
    "ExecuteTime": {
     "end_time": "2022-04-06T02:23:14.961554Z",
     "start_time": "2022-04-06T02:23:14.957435Z"
    }
   },
   "outputs": [
    {
     "name": "stdout",
     "output_type": "stream",
     "text": [
      "tensor([0.], requires_grad=True)\n",
      "tensor([0.], requires_grad=True)\n"
     ]
    }
   ],
   "source": [
    "# 가중치 W를 0으로 초기화하고 학습을 통해 값이 변경되는 변수임을 명시(requires_grad = True)함\n",
    "W = torch.zeros(1, requires_grad = True)\n",
    "print(W)\n",
    "\n",
    "# 편향 b를 0으로 초기화하고 학습을 통해 값이 변경되는 변수임을 명시(requires_grad = True)함\n",
    "b = torch.zeros(1, requires_grad = True)\n",
    "print(b)"
   ]
  },
  {
   "cell_type": "markdown",
   "id": "82849c1f",
   "metadata": {
    "ExecuteTime": {
     "end_time": "2022-04-06T02:23:26.643775Z",
     "start_time": "2022-04-06T02:23:26.641539Z"
    }
   },
   "source": [
    "## 가설 세우기"
   ]
  },
  {
   "cell_type": "code",
   "execution_count": 9,
   "id": "b783b27c",
   "metadata": {
    "ExecuteTime": {
     "end_time": "2022-04-06T02:24:52.706839Z",
     "start_time": "2022-04-06T02:24:52.703258Z"
    }
   },
   "outputs": [
    {
     "name": "stdout",
     "output_type": "stream",
     "text": [
      "tensor([[0.],\n",
      "        [0.],\n",
      "        [0.]], grad_fn=<AddBackward0>)\n"
     ]
    }
   ],
   "source": [
    "hypothesis = x_train * W + b\n",
    "print(hypothesis)"
   ]
  },
  {
   "cell_type": "markdown",
   "id": "1c9cafde",
   "metadata": {},
   "source": [
    "## 비용 함수 선언하기\n",
    "- linear regression의 cost function으로 MSE(평균제곱오차)를 사용할 것임"
   ]
  },
  {
   "cell_type": "code",
   "execution_count": 10,
   "id": "195654d9",
   "metadata": {
    "ExecuteTime": {
     "end_time": "2022-04-06T02:27:02.458445Z",
     "start_time": "2022-04-06T02:27:02.453310Z"
    }
   },
   "outputs": [
    {
     "name": "stdout",
     "output_type": "stream",
     "text": [
      "tensor(18.6667, grad_fn=<MeanBackward0>)\n"
     ]
    }
   ],
   "source": [
    "# (예측값 - 실제값)^2 / n \n",
    "cost = torch.mean((hypothesis - y_train) ** 2)\n",
    "print(cost)"
   ]
  },
  {
   "cell_type": "markdown",
   "id": "11710e0d",
   "metadata": {},
   "source": [
    "## 경사 하강법 구현하기\n",
    "- SGD(Stochastic Gradient Descent) : 경사 하강법의 일종\n",
    "- lr(learning rate) : 학습률\n",
    "- 학습 대상인 W, b가 SGD의 입력이 됨"
   ]
  },
  {
   "cell_type": "code",
   "execution_count": 12,
   "id": "a5514611",
   "metadata": {
    "ExecuteTime": {
     "end_time": "2022-04-06T02:31:45.158780Z",
     "start_time": "2022-04-06T02:31:45.156460Z"
    }
   },
   "outputs": [],
   "source": [
    "optimizer = optim.SGD([W, b], lr=0.01)"
   ]
  },
  {
   "cell_type": "markdown",
   "id": "99ca14af",
   "metadata": {},
   "source": [
    "- `optimizer.zero_grad()`를 실행함으로써 미분을 통해 얻은 기울기를 0으로 초기화함\n",
    "- 기울기를 초기화해야만 새로운 가중치 편향에 대해서 새로운 기울기를 구할 수 있음\n",
    "- 그 다음 `cost.backward()` 함수를 호출하면 가중치 W, 편향 b에 대한 기울기가 계산됨\n",
    "- 그 다음 경사 하강법 최적화 함수 optimizer의 `.step()` 함수를 호출하여 인수로 들어갔던 W, b에서 return되는 변수들의 기울기에 학습률 0.01을 곱하여 빼줌으로써 업데이트함"
   ]
  },
  {
   "cell_type": "code",
   "execution_count": 13,
   "id": "44ebe858",
   "metadata": {
    "ExecuteTime": {
     "end_time": "2022-04-06T02:35:48.816060Z",
     "start_time": "2022-04-06T02:35:48.808579Z"
    }
   },
   "outputs": [],
   "source": [
    "# gradient를 0으로 초기화\n",
    "optimizer.zero_grad()\n",
    "\n",
    "# 비용 함수를 미분하여 gradient 계산\n",
    "cost.backward()\n",
    "\n",
    "# W, b 업데이트\n",
    "optimizer.step()"
   ]
  },
  {
   "cell_type": "markdown",
   "id": "35c117c5",
   "metadata": {},
   "source": [
    "## 전체 코드"
   ]
  },
  {
   "cell_type": "code",
   "execution_count": 19,
   "id": "d96ddc64",
   "metadata": {
    "ExecuteTime": {
     "end_time": "2022-04-06T02:46:22.868017Z",
     "start_time": "2022-04-06T02:46:22.551935Z"
    }
   },
   "outputs": [
    {
     "name": "stdout",
     "output_type": "stream",
     "text": [
      "Epoch    0/1999 W: 0.187, b: 0.080 Cost: 18.666666\n",
      "Epoch  100/1999 W: 1.746, b: 0.578 Cost: 0.048171\n",
      "Epoch  200/1999 W: 1.800, b: 0.454 Cost: 0.029767\n",
      "Epoch  300/1999 W: 1.843, b: 0.357 Cost: 0.018394\n",
      "Epoch  400/1999 W: 1.876, b: 0.281 Cost: 0.011366\n",
      "Epoch  500/1999 W: 1.903, b: 0.221 Cost: 0.007024\n",
      "Epoch  600/1999 W: 1.924, b: 0.174 Cost: 0.004340\n",
      "Epoch  700/1999 W: 1.940, b: 0.136 Cost: 0.002682\n",
      "Epoch  800/1999 W: 1.953, b: 0.107 Cost: 0.001657\n",
      "Epoch  900/1999 W: 1.963, b: 0.084 Cost: 0.001024\n",
      "Epoch 1000/1999 W: 1.971, b: 0.066 Cost: 0.000633\n",
      "Epoch 1100/1999 W: 1.977, b: 0.052 Cost: 0.000391\n",
      "Epoch 1200/1999 W: 1.982, b: 0.041 Cost: 0.000242\n",
      "Epoch 1300/1999 W: 1.986, b: 0.032 Cost: 0.000149\n",
      "Epoch 1400/1999 W: 1.989, b: 0.025 Cost: 0.000092\n",
      "Epoch 1500/1999 W: 1.991, b: 0.020 Cost: 0.000057\n",
      "Epoch 1600/1999 W: 1.993, b: 0.016 Cost: 0.000035\n",
      "Epoch 1700/1999 W: 1.995, b: 0.012 Cost: 0.000022\n",
      "Epoch 1800/1999 W: 1.996, b: 0.010 Cost: 0.000013\n",
      "Epoch 1900/1999 W: 1.997, b: 0.008 Cost: 0.000008\n"
     ]
    }
   ],
   "source": [
    "# 데이터\n",
    "x_train = torch.FloatTensor([[1], [2], [3]])\n",
    "y_train = torch.FloatTensor([[2], [4], [6]])\n",
    "\n",
    "# 모델 초기화\n",
    "W = torch.zeros(1, requires_grad=True)\n",
    "b = torch.zeros(1, requires_grad=True)\n",
    "\n",
    "# optimizer 설정\n",
    "optimizer = optim.SGD([W, b], lr=0.01)\n",
    "\n",
    "nb_epochs = 1999 # 원하는 만큼 경사 하강법을 반복\n",
    "for epoch in range(nb_epochs+1):\n",
    "    \n",
    "    # H(x) 계산\n",
    "    hypothesis = x_train * W + b\n",
    "    \n",
    "    # cost 계산\n",
    "    cost = torch.mean((hypothesis - y_train) ** 2)\n",
    "    \n",
    "    # cost로 H(x) 개선\n",
    "    optimizer.zero_grad()\n",
    "    cost.backward()\n",
    "    optimizer.step()\n",
    "    \n",
    "    # 100번마다 로그 출력\n",
    "    if epoch % 100 == 0:\n",
    "        print('Epoch {:4d}/{} W: {:.3f}, b: {:.3f} Cost: {:.6f}'.format(epoch, nb_epochs, W.item(), b.item(), cost.item()))"
   ]
  },
  {
   "cell_type": "markdown",
   "id": "d35acbf1",
   "metadata": {},
   "source": [
    "- 결과적으로 훈련과정에서 W, b는 훈련 데이터와 잘 맞는 직선을 표현하기 위한 적절한 값으로 변화해감\n",
    "\n",
    "\n",
    "- Epoch : 전체 훈련 데이터가 학습에 한 번 사용된 주기\n",
    "- 이번 실습에서는 2,000번 수행함\n",
    "\n",
    "\n",
    "- 최종 훈련 결과를 보면 최적의 기울기 W는 2에 가깝고, b는 0에 가까움\n",
    "- 현재 훈련 데이터가 x_train은 [[1], [2], [3]]이고 y_train은 [[2], [4], [6]]인 것을 감안하면 실제 정답은 W가 2이고, b가 0인 H(x)=2x이므로 거의 정답을 찾은 셈임"
   ]
  },
  {
   "cell_type": "markdown",
   "id": "e7e1ba0b",
   "metadata": {},
   "source": [
    "## `optimizer.zero_grad()`가 필요한 이유\n",
    "- PyTorch는 미분을 통해 얻은 기울기를 이전에 얻은 기울기 값에 누적시키는 특징이 있음"
   ]
  },
  {
   "cell_type": "code",
   "execution_count": 27,
   "id": "7b5650e3",
   "metadata": {
    "ExecuteTime": {
     "end_time": "2022-04-06T02:51:16.974701Z",
     "start_time": "2022-04-06T02:51:16.965139Z"
    }
   },
   "outputs": [
    {
     "name": "stdout",
     "output_type": "stream",
     "text": [
      "수식을 w로 미분한 값 : 2.0\n",
      "수식을 w로 미분한 값 : 4.0\n",
      "수식을 w로 미분한 값 : 6.0\n",
      "수식을 w로 미분한 값 : 8.0\n",
      "수식을 w로 미분한 값 : 10.0\n",
      "수식을 w로 미분한 값 : 12.0\n",
      "수식을 w로 미분한 값 : 14.0\n",
      "수식을 w로 미분한 값 : 16.0\n",
      "수식을 w로 미분한 값 : 18.0\n",
      "수식을 w로 미분한 값 : 20.0\n",
      "수식을 w로 미분한 값 : 22.0\n",
      "수식을 w로 미분한 값 : 24.0\n",
      "수식을 w로 미분한 값 : 26.0\n",
      "수식을 w로 미분한 값 : 28.0\n",
      "수식을 w로 미분한 값 : 30.0\n",
      "수식을 w로 미분한 값 : 32.0\n",
      "수식을 w로 미분한 값 : 34.0\n",
      "수식을 w로 미분한 값 : 36.0\n",
      "수식을 w로 미분한 값 : 38.0\n",
      "수식을 w로 미분한 값 : 40.0\n",
      "수식을 w로 미분한 값 : 42.0\n"
     ]
    }
   ],
   "source": [
    "import torch\n",
    "w = torch.tensor(2.0, requires_grad=True)\n",
    "\n",
    "# optimizer = optim.SGD([w, b], lr=0.01)\n",
    "\n",
    "nb_epochs = 20\n",
    "for epoch in range(nb_epochs + 1):\n",
    "    \n",
    "    z = 2*w\n",
    "#     optimizer.zero_grad()\n",
    "    z.backward()\n",
    "    print('수식을 w로 미분한 값 : {}'.format(w.grad))"
   ]
  },
  {
   "cell_type": "markdown",
   "id": "0ec65644",
   "metadata": {},
   "source": [
    "- 계속해서 미분값인 2가 누적되는 것을 볼 수 있음\n",
    "- 그렇기 때문에 `optimizer.zero_grad()`를 통해 미분값을 계속 0으로 초기화시켜줘야 함"
   ]
  },
  {
   "cell_type": "markdown",
   "id": "99622a26",
   "metadata": {},
   "source": [
    "## `torch.manual_seed()`를 하는 이유\n",
    "- `torch.manual_seed()`를 사용한 프로그램의 결과는 다른 컴퓨터에서 실행시켜도 동일한 결과를 얻을 수 있음\n",
    "- 그 이유는 `torch.manual_seed()`는 난수 발생 순서와 값을 동일하게 보장해주기 때문임\n",
    "- 우선 랜덤 시드가 3일 때 두 번 난수를 발생시켜보고 다른 랜덤 시드를 사용한 후 다시 랜덤 시드를 3을 사용하면 난수 발생값이 동일하게 나오는지 살펴보기"
   ]
  },
  {
   "cell_type": "code",
   "execution_count": 30,
   "id": "a5cf142e",
   "metadata": {
    "ExecuteTime": {
     "end_time": "2022-04-06T03:03:17.009452Z",
     "start_time": "2022-04-06T03:03:17.006879Z"
    }
   },
   "outputs": [],
   "source": [
    "import torch"
   ]
  },
  {
   "cell_type": "code",
   "execution_count": 31,
   "id": "9aeab006",
   "metadata": {
    "ExecuteTime": {
     "end_time": "2022-04-06T03:03:17.017315Z",
     "start_time": "2022-04-06T03:03:17.011648Z"
    }
   },
   "outputs": [
    {
     "data": {
      "text/plain": [
       "<torch._C.Generator at 0x7f826b735a70>"
      ]
     },
     "execution_count": 31,
     "metadata": {},
     "output_type": "execute_result"
    },
    {
     "name": "stdout",
     "output_type": "stream",
     "text": [
      "random seed : 3\n",
      "tensor([0.0043])\n",
      "tensor([0.1056])\n"
     ]
    }
   ],
   "source": [
    "torch.manual_seed(3)\n",
    "print('random seed : 3')\n",
    "for i in range(1,3):\n",
    "    print(torch.rand(1))"
   ]
  },
  {
   "cell_type": "code",
   "execution_count": 32,
   "id": "f73cebb6",
   "metadata": {
    "ExecuteTime": {
     "end_time": "2022-04-06T03:03:17.025636Z",
     "start_time": "2022-04-06T03:03:17.019512Z"
    }
   },
   "outputs": [
    {
     "data": {
      "text/plain": [
       "<torch._C.Generator at 0x7f826b735a70>"
      ]
     },
     "execution_count": 32,
     "metadata": {},
     "output_type": "execute_result"
    },
    {
     "name": "stdout",
     "output_type": "stream",
     "text": [
      "random seed : 5\n",
      "tensor([0.8303])\n",
      "tensor([0.1261])\n"
     ]
    }
   ],
   "source": [
    "torch.manual_seed(5)\n",
    "print('random seed : 5')\n",
    "for i in range(1,3):\n",
    "    print(torch.rand(1))"
   ]
  },
  {
   "cell_type": "code",
   "execution_count": 33,
   "id": "c825fb07",
   "metadata": {
    "ExecuteTime": {
     "end_time": "2022-04-06T03:03:17.033545Z",
     "start_time": "2022-04-06T03:03:17.027202Z"
    }
   },
   "outputs": [
    {
     "data": {
      "text/plain": [
       "<torch._C.Generator at 0x7f826b735a70>"
      ]
     },
     "execution_count": 33,
     "metadata": {},
     "output_type": "execute_result"
    },
    {
     "name": "stdout",
     "output_type": "stream",
     "text": [
      "random seed : 3\n",
      "tensor([0.0043])\n",
      "tensor([0.1056])\n"
     ]
    }
   ],
   "source": [
    "import torch\n",
    "\n",
    "torch.manual_seed(3)\n",
    "print('random seed : 3')\n",
    "for i in range(1,3):\n",
    "    print(torch.rand(1))"
   ]
  },
  {
   "cell_type": "markdown",
   "id": "a8083f94",
   "metadata": {},
   "source": [
    "- 텐서에는 requires_grad라는 속성이 있음\n",
    "- 이것을 True로 설정하면 자동 미분 기능이 적용됨\n",
    "- 선형 회귀부터 신경망과 같은 복잡한 구조에서 파라미터들이 모두 이 기능이 적용됨\n",
    "- requires_grad = True가 적용된 텐서에 연산을 하면, 계산 그래프가 생성되며 backward 함수를 호출하면 그래프로부터 자동으로 미분이 계산됨"
   ]
  },
  {
   "cell_type": "markdown",
   "id": "f0762919",
   "metadata": {},
   "source": [
    "# [자동 미분 (Autograd)](https://wikidocs.net/60754)\n",
    "- 경사 하강법 코드를 보고있으면 `requires_grad=True`, `backward()`등이 나옴\n",
    "- 이는 파이토치에서 제공하고 있는 자동 미분(Autograd) 기능을 수행하고 있는 것임\n",
    "- 파이토치의 학습 과정을 보다 더 잘 이해하기 위해서 자동 미분에 대해 이해해보자"
   ]
  },
  {
   "attachments": {
    "image.png": {
     "image/png": "[encoded data removed]"
    }
   },
   "cell_type": "markdown",
   "id": "0cc3d99f",
   "metadata": {},
   "source": [
    "## 경사 하강법 리뷰\n",
    "\n",
    "![image.png](attachment:image.png)\n",
    "\n",
    "\n",
    "- 경사 하강법은 비용 함수를 미분하여 이 함수의 기울기(gradient)를 구해서 비용이 최소화 되는 방향을 찾아내는 알고리즘이었음\n",
    "- 비용 함수를 손실 함수, 오차 함수라고도 부르므로 비용 or 손실 or 오차가 최소화 되는 방향이라고 설명할 수 있음\n",
    "- 모델이 복잡해질수록 경사 하강법을 numpy 등으로 직접 코딩하는 것은 까다로운 일임\n",
    "- PyTorch에서는 이런 수고를 하지 않도록 자동 미분(Autograd)을 지원함\n",
    "- 자동 미분을 사용하면 미분 계산을 자동화하여 경사 하강법을 손쉽게 사용할 수 있게 해줌"
   ]
  },
  {
   "cell_type": "markdown",
   "id": "1186aa13",
   "metadata": {},
   "source": [
    "## 자동 미분 (Autograd) 실습하기\n",
    "- 자동 미분에 대해서 실습을 통해 이해해볼 것임\n",
    "- 임의로 `2w^2+5`라는 식을 세워보고, `w`에 대해 미분해볼 것임"
   ]
  },
  {
   "cell_type": "code",
   "execution_count": 34,
   "id": "49f3bdf9",
   "metadata": {
    "ExecuteTime": {
     "end_time": "2022-04-06T03:14:25.776986Z",
     "start_time": "2022-04-06T03:14:25.774850Z"
    }
   },
   "outputs": [],
   "source": [
    "import torch"
   ]
  },
  {
   "cell_type": "markdown",
   "id": "97844d30",
   "metadata": {},
   "source": [
    "- 값이 2인 임의의 스칼라 텐서 w를 선언함\n",
    "- 이 때 `required_grad`를 True로 설정함\n",
    "    - 이는 이 텐서에 대한 기울기를 저장하겠다는 의미임\n",
    "    - 이렇게 하면 `w.grad`에 w에 대한 미분값이 저장됨"
   ]
  },
  {
   "cell_type": "code",
   "execution_count": 35,
   "id": "d423520e",
   "metadata": {
    "ExecuteTime": {
     "end_time": "2022-04-06T03:15:56.765561Z",
     "start_time": "2022-04-06T03:15:56.762892Z"
    }
   },
   "outputs": [],
   "source": [
    "w = torch.tensor(2.0, requires_grad = True)"
   ]
  },
  {
   "cell_type": "markdown",
   "id": "4bd3bd9a",
   "metadata": {},
   "source": [
    "- 수식을 정의하면 아래와 같음"
   ]
  },
  {
   "cell_type": "code",
   "execution_count": 36,
   "id": "a25400ac",
   "metadata": {
    "ExecuteTime": {
     "end_time": "2022-04-06T03:17:15.493265Z",
     "start_time": "2022-04-06T03:17:15.490610Z"
    }
   },
   "outputs": [],
   "source": [
    "z = 2 * (w ** 2) + 5"
   ]
  },
  {
   "cell_type": "markdown",
   "id": "1223921f",
   "metadata": {},
   "source": [
    "- 해당 수식을 w에 대해서 미분해야 함\n",
    "- `.backward()`를 호출하면 해당 수식의 w에 대한 기울기를 계산함"
   ]
  },
  {
   "cell_type": "code",
   "execution_count": 37,
   "id": "eb653991",
   "metadata": {
    "ExecuteTime": {
     "end_time": "2022-04-06T03:18:25.703767Z",
     "start_time": "2022-04-06T03:18:25.701103Z"
    }
   },
   "outputs": [],
   "source": [
    "z.backward()"
   ]
  },
  {
   "cell_type": "markdown",
   "id": "f21c8529",
   "metadata": {},
   "source": [
    "- 이제 `w.grad`를  출력하면 w가 속한 수식을 w로 미분한 값이 저장된 것을 확인할 수 있음"
   ]
  },
  {
   "cell_type": "code",
   "execution_count": 38,
   "id": "ff7be7dd",
   "metadata": {
    "ExecuteTime": {
     "end_time": "2022-04-06T03:19:45.700371Z",
     "start_time": "2022-04-06T03:19:45.697809Z"
    }
   },
   "outputs": [
    {
     "name": "stdout",
     "output_type": "stream",
     "text": [
      "수식을 w로 미분한 값 : 8.0\n"
     ]
    }
   ],
   "source": [
    "print('수식을 w로 미분한 값 : {}'.format(w.grad))"
   ]
  },
  {
   "cell_type": "markdown",
   "id": "8eb57616",
   "metadata": {},
   "source": [
    "# [다중 선형 회귀 (Multivariable Linear Regression)](https://wikidocs.net/54841)\n",
    "- 앞서 배운 x가 1개인 선형 회귀를 단순 선형 회귀(Simple Linear Regression)라고 함\n",
    "- 이번 챕터에서는 다수의 x로부터 y를 예측하는 다중 선형 회귀(Multivariable Linear Regression)에 대해서 이해할 것임"
   ]
  },
  {
   "attachments": {
    "image.png": {
     "image/png": "[encoded data removed]"
    }
   },
   "cell_type": "markdown",
   "id": "c0ae93c5",
   "metadata": {},
   "source": [
    "## 데이터에 대한 이해 (Data Definition)\n",
    "- 다음과 같은 훈련 데이터가 있음\n",
    "- 앞서 배운 단순 선형 회귀와 다른 점은 독립 변수 x의 개수가 1개가 아닌 3개라는 점임\n",
    "- 3개의 퀴즈 점수로부터 최종 점수를 예측하는 모델을 만들어볼 것임\n",
    "\n",
    "![image.png](attachment:image.png)\n",
    "\n",
    "- 독립 변수 x의 개수가 3개므로 이를 수식으로 표현하면 아래와 같음\n",
    "- H(x) = w1 * x1 + w2 * x2 + w3 * x3 + b"
   ]
  },
  {
   "cell_type": "markdown",
   "id": "80b823b5",
   "metadata": {},
   "source": [
    "## 파이토치로 구현하기"
   ]
  },
  {
   "cell_type": "code",
   "execution_count": 39,
   "id": "9cafd346",
   "metadata": {
    "ExecuteTime": {
     "end_time": "2022-04-06T03:26:47.325749Z",
     "start_time": "2022-04-06T03:26:47.323115Z"
    }
   },
   "outputs": [],
   "source": [
    "# 필요한 도구들을 import 하고 random seed 고정하기\n",
    "import torch\n",
    "import torch.nn as nn\n",
    "import torch.nn.functional as F\n",
    "import torch.optim as optim"
   ]
  },
  {
   "cell_type": "code",
   "execution_count": 40,
   "id": "bae93bda",
   "metadata": {
    "ExecuteTime": {
     "end_time": "2022-04-06T03:26:55.530469Z",
     "start_time": "2022-04-06T03:26:55.525868Z"
    }
   },
   "outputs": [
    {
     "data": {
      "text/plain": [
       "<torch._C.Generator at 0x7f826b735a70>"
      ]
     },
     "execution_count": 40,
     "metadata": {},
     "output_type": "execute_result"
    }
   ],
   "source": [
    "torch.manual_seed(1)"
   ]
  },
  {
   "cell_type": "code",
   "execution_count": 41,
   "id": "a416b6c0",
   "metadata": {
    "ExecuteTime": {
     "end_time": "2022-04-06T03:27:21.293388Z",
     "start_time": "2022-04-06T03:27:21.289534Z"
    }
   },
   "outputs": [],
   "source": [
    "# 훈련 데이터\n",
    "x1_train = torch.FloatTensor([[73], [93], [89], [96], [73]])\n",
    "x2_train = torch.FloatTensor([[80], [88], [91], [98], [66]])\n",
    "x3_train = torch.FloatTensor([[75], [93], [90], [100], [70]])\n",
    "y_train = torch.FloatTensor([[152], [185], [180], [196], [142]])"
   ]
  },
  {
   "cell_type": "code",
   "execution_count": 43,
   "id": "81d290b3",
   "metadata": {
    "ExecuteTime": {
     "end_time": "2022-04-06T03:27:35.691574Z",
     "start_time": "2022-04-06T03:27:35.688612Z"
    }
   },
   "outputs": [],
   "source": [
    "# 가중치 w와 편향 b 초기화\n",
    "w1 = torch.zeros(1, requires_grad=True)\n",
    "w2 = torch.zeros(1, requires_grad=True)\n",
    "w3 = torch.zeros(1, requires_grad=True)\n",
    "b = torch.zeros(1, requires_grad=True)"
   ]
  },
  {
   "cell_type": "code",
   "execution_count": 49,
   "id": "3de92b28",
   "metadata": {
    "ExecuteTime": {
     "end_time": "2022-04-06T04:21:40.755349Z",
     "start_time": "2022-04-06T04:21:40.553170Z"
    }
   },
   "outputs": [
    {
     "name": "stdout",
     "output_type": "stream",
     "text": [
      "Epoch    0/1000 w1: 0.459 w2: 0.458 w3: 0.464 b: 0.005 Cost: 9298.520508\n",
      "Epoch  100/1000 w1: 0.674 w2: 0.661 w3: 0.676 b: 0.008 Cost: 1.562956\n",
      "Epoch  200/1000 w1: 0.679 w2: 0.655 w3: 0.677 b: 0.008 Cost: 1.496956\n",
      "Epoch  300/1000 w1: 0.684 w2: 0.649 w3: 0.677 b: 0.008 Cost: 1.434419\n",
      "Epoch  400/1000 w1: 0.689 w2: 0.643 w3: 0.678 b: 0.008 Cost: 1.375137\n",
      "Epoch  500/1000 w1: 0.695 w2: 0.638 w3: 0.678 b: 0.009 Cost: 1.318958\n",
      "Epoch  600/1000 w1: 0.699 w2: 0.633 w3: 0.679 b: 0.009 Cost: 1.265697\n",
      "Epoch  700/1000 w1: 0.704 w2: 0.627 w3: 0.679 b: 0.009 Cost: 1.215217\n",
      "Epoch  800/1000 w1: 0.709 w2: 0.622 w3: 0.679 b: 0.009 Cost: 1.167349\n",
      "Epoch  900/1000 w1: 0.714 w2: 0.617 w3: 0.680 b: 0.009 Cost: 1.121989\n",
      "Epoch 1000/1000 w1: 0.718 w2: 0.612 w3: 0.680 b: 0.009 Cost: 1.078961\n"
     ]
    }
   ],
   "source": [
    "# hypothesis, cost function, optimizer를 선언한 후에 경사 하강법을 1,000회 반복하기\n",
    "# optimizer 설정\n",
    "optimizer = optim.SGD([w1, w2, w3, b], lr=1e-5)\n",
    "\n",
    "nb_epochs = 1000\n",
    "for epoch in range(nb_epochs + 1): # 0 ~ 1000\n",
    "    \n",
    "    # H(x) 계산\n",
    "    hypothesis = x1_train * w1 + x2_train * w2 + x3_train * w3 + b\n",
    "    \n",
    "    # cost 계산\n",
    "    cost = torch.mean((hypothesis - y_train) ** 2)\n",
    "    \n",
    "    # cost로 H(x) 개선\n",
    "    optimizer.zero_grad()\n",
    "    cost.backward()\n",
    "    optimizer.step()\n",
    "    \n",
    "    # 100번마다 로그 출력\n",
    "    if epoch % 100 == 0:\n",
    "        print('Epoch {:4d}/{} w1: {:.3f} w2: {:.3f} w3: {:.3f} b: {:.3f} Cost: {:.6f}'.format(\n",
    "            epoch, nb_epochs, w1.item(), w2.item(), w3.item(), b.item(), cost.item()))"
   ]
  },
  {
   "cell_type": "markdown",
   "id": "c142bf49",
   "metadata": {},
   "source": [
    "위의 경우 가설을 선언하는 부분인 hypothesis = x1_train * w1 + x2_train * w2 + x3_train * w3 + b에서도 x_train의 개수만큼 w와 곱해주도록 작성해준 것을 확인할 수 있음"
   ]
  },
  {
   "cell_type": "markdown",
   "id": "ee7e8e35",
   "metadata": {},
   "source": [
    "## 행렬 연산을 고려하여 파이토치로 구현하기"
   ]
  },
  {
   "cell_type": "code",
   "execution_count": 50,
   "id": "989c599e",
   "metadata": {
    "ExecuteTime": {
     "end_time": "2022-04-06T04:35:02.064306Z",
     "start_time": "2022-04-06T04:35:02.061327Z"
    }
   },
   "outputs": [],
   "source": [
    "x_train = torch.FloatTensor([[73, 80, 75],\n",
    "                            [93, 88, 93],\n",
    "                            [89, 91, 80],\n",
    "                            [96, 98, 100],\n",
    "                            [73, 66, 70]])\n",
    "y_train = torch.FloatTensor([[152], [185], [180], [196], [142]])"
   ]
  },
  {
   "cell_type": "code",
   "execution_count": 51,
   "id": "76e16faa",
   "metadata": {
    "ExecuteTime": {
     "end_time": "2022-04-06T04:35:23.498398Z",
     "start_time": "2022-04-06T04:35:23.495260Z"
    }
   },
   "outputs": [
    {
     "name": "stdout",
     "output_type": "stream",
     "text": [
      "torch.Size([5, 3])\n",
      "torch.Size([5, 1])\n"
     ]
    }
   ],
   "source": [
    "print(x_train.shape)\n",
    "print(y_train.shape)"
   ]
  },
  {
   "cell_type": "code",
   "execution_count": 52,
   "id": "8ffb388e",
   "metadata": {
    "ExecuteTime": {
     "end_time": "2022-04-06T04:36:36.138641Z",
     "start_time": "2022-04-06T04:36:36.135594Z"
    }
   },
   "outputs": [],
   "source": [
    "# 가중치와 편향 선언\n",
    "W = torch.zeros((3, 1), requires_grad = True)\n",
    "b = torch.zeros(1, requires_grad = True)"
   ]
  },
  {
   "cell_type": "markdown",
   "id": "70dbb42c",
   "metadata": {},
   "source": [
    "- 여기서 주목할 점은 가중치 W의 크기가 (3 × 1) 벡터라는 점임\n",
    "- 행렬의 곱셈이 성립되려면 곱셈의 좌측에 있는 행렬의 열의 크기와 우측에 있는 행렬의 행의 크기가 일치해야 함\n",
    "- 현재 X_train의 행렬의 크기는 (5 × 3)이며, W 벡터의 크기는 (3 × 1)이므로 두 행렬과 벡터는 행렬곱이 가능함\n",
    "- 행렬곱으로 가설을 선언하면 아래와 같음"
   ]
  },
  {
   "cell_type": "code",
   "execution_count": 53,
   "id": "a0467543",
   "metadata": {
    "ExecuteTime": {
     "end_time": "2022-04-06T04:39:00.863417Z",
     "start_time": "2022-04-06T04:39:00.851935Z"
    }
   },
   "outputs": [],
   "source": [
    "hypothesis = x_train.matmul(W) + b"
   ]
  },
  {
   "cell_type": "markdown",
   "id": "0022d49b",
   "metadata": {},
   "source": [
    "- 가설을 행렬곱으로 간단히 정의하였음\n",
    "- 이는 앞서 x_train과 w의 곱셈이 이루어지는 각 항을 전부 기재하여 가설을 선언했던 것과 대비됨\n",
    "- 이 경우, 사용자가 독립 변수 x의 수를 후에 추가적으로 늘리거나 줄이더라도 위의 가설 선언 코드를 수정할 필요가 없음\n",
    "- 이제 해야할 일은 비용 함수와 옵티마이저를 정의하고 정해진 에포크만큼 훈련을 진행하는 일임\n",
    "- 이를 반영한 전체 코드는 다음과 같음"
   ]
  },
  {
   "cell_type": "code",
   "execution_count": 56,
   "id": "96ec8e5b",
   "metadata": {
    "ExecuteTime": {
     "end_time": "2022-04-06T04:43:04.790648Z",
     "start_time": "2022-04-06T04:43:04.771297Z"
    }
   },
   "outputs": [
    {
     "name": "stdout",
     "output_type": "stream",
     "text": [
      "Epoch    0/20 hypothesis: tensor([0., 0., 0., 0., 0.]) Cost: 29661.800781\n",
      "Epoch    1/20 hypothesis: tensor([66.7178, 80.1701, 76.1025, 86.0194, 61.1565]) Cost: 9537.694336\n",
      "Epoch    2/20 hypothesis: tensor([104.5421, 125.6208, 119.2478, 134.7862,  95.8280]) Cost: 3069.590088\n",
      "Epoch    3/20 hypothesis: tensor([125.9858, 151.3882, 143.7087, 162.4333, 115.4844]) Cost: 990.670898\n",
      "Epoch    4/20 hypothesis: tensor([138.1429, 165.9963, 157.5768, 178.1071, 126.6283]) Cost: 322.482086\n",
      "Epoch    5/20 hypothesis: tensor([145.0350, 174.2780, 165.4395, 186.9928, 132.9461]) Cost: 107.717064\n",
      "Epoch    6/20 hypothesis: tensor([148.9423, 178.9730, 169.8976, 192.0301, 136.5279]) Cost: 38.687496\n",
      "Epoch    7/20 hypothesis: tensor([151.1574, 181.6346, 172.4254, 194.8856, 138.5585]) Cost: 16.499043\n",
      "Epoch    8/20 hypothesis: tensor([152.4131, 183.1435, 173.8590, 196.5043, 139.7097]) Cost: 9.365656\n",
      "Epoch    9/20 hypothesis: tensor([153.1250, 183.9988, 174.6723, 197.4217, 140.3625]) Cost: 7.071114\n",
      "Epoch   10/20 hypothesis: tensor([153.5285, 184.4835, 175.1338, 197.9415, 140.7325]) Cost: 6.331847\n",
      "Epoch   11/20 hypothesis: tensor([153.7572, 184.7582, 175.3958, 198.2360, 140.9424]) Cost: 6.092532\n",
      "Epoch   12/20 hypothesis: tensor([153.8868, 184.9138, 175.5449, 198.4026, 141.0613]) Cost: 6.013817\n",
      "Epoch   13/20 hypothesis: tensor([153.9602, 185.0019, 175.6299, 198.4969, 141.1288]) Cost: 5.986785\n",
      "Epoch   14/20 hypothesis: tensor([154.0017, 185.0517, 175.6785, 198.5500, 141.1671]) Cost: 5.976325\n",
      "Epoch   15/20 hypothesis: tensor([154.0252, 185.0798, 175.7065, 198.5800, 141.1888]) Cost: 5.971208\n",
      "Epoch   16/20 hypothesis: tensor([154.0385, 185.0956, 175.7229, 198.5966, 141.2012]) Cost: 5.967835\n",
      "Epoch   17/20 hypothesis: tensor([154.0459, 185.1045, 175.7326, 198.6059, 141.2082]) Cost: 5.964969\n",
      "Epoch   18/20 hypothesis: tensor([154.0501, 185.1094, 175.7386, 198.6108, 141.2122]) Cost: 5.962291\n",
      "Epoch   19/20 hypothesis: tensor([154.0524, 185.1120, 175.7424, 198.6134, 141.2145]) Cost: 5.959664\n",
      "Epoch   20/20 hypothesis: tensor([154.0536, 185.1134, 175.7451, 198.6145, 141.2158]) Cost: 5.957089\n"
     ]
    }
   ],
   "source": [
    "x_train  =  torch.FloatTensor([[73,  80,  75], \n",
    "                               [93,  88,  93], \n",
    "                               [89,  91,  80], \n",
    "                               [96,  98,  100],   \n",
    "                               [73,  66,  70]])  \n",
    "y_train  =  torch.FloatTensor([[152],  [185],  [180],  [196],  [142]])\n",
    "\n",
    "# 모델 초기화\n",
    "W = torch.zeros((3, 1), requires_grad=True) # x_train과 연산하기 위한 shape이 맞아야 함 \n",
    "b = torch.zeros(1, requires_grad=True) # 나중에 broadcasting 됨\n",
    "\n",
    "# optimizer 설정\n",
    "optimizer = optim.SGD([W, b], lr=1e-5)\n",
    "\n",
    "nb_epochs = 20\n",
    "for epoch in range(nb_epochs + 1):\n",
    "\n",
    "    # H(x) 계산\n",
    "    # 편향 b는 브로드 캐스팅되어 각 샘플에 더해집니다.\n",
    "    hypothesis = x_train.matmul(W) + b\n",
    "\n",
    "    # cost 계산\n",
    "    cost = torch.mean((hypothesis - y_train) ** 2)\n",
    "\n",
    "    # cost로 H(x) 개선\n",
    "    optimizer.zero_grad()\n",
    "    cost.backward()\n",
    "    optimizer.step()\n",
    "\n",
    "    print('Epoch {:4d}/{} hypothesis: {} Cost: {:.6f}'.format(\n",
    "        epoch, nb_epochs, hypothesis.squeeze().detach(), cost.item()))"
   ]
  },
  {
   "cell_type": "markdown",
   "id": "84af3d75",
   "metadata": {},
   "source": [
    "# [nn.Module로 구현하는 선형 회귀](https://wikidocs.net/55409)\n",
    "- 이전 챕터까지는 선형 회귀를 좀 더 직접적으로 이해하기 위해 가설, 비용 함수를 직접 정의해서 선형 회귀 모델을 구현했음\n",
    "- 이번에는 파이토치에서 이미 구현되어져 제공되고 있는 함수들을 불러오는 것으로 더 쉽게 선형 회귀 모델을 구현해 볼 것임\n",
    "\n",
    "\n",
    "- 예를 들어 파이토치에서는 선형 회귀 모델이 `nn.Linear()`, 평균 제곱오차가 `nn.functional.mse_loss()`라는 함수로 구현되어있음\n",
    "- 아래는 이번 실습에서 사용할 두 함수의 사용 예제를 간단히 보여줌"
   ]
  },
  {
   "cell_type": "code",
   "execution_count": null,
   "id": "e65ea766",
   "metadata": {},
   "outputs": [],
   "source": [
    "import torch.nn as nn\n",
    "model = nn.Linear(input_dim, output_dim)"
   ]
  },
  {
   "cell_type": "code",
   "execution_count": null,
   "id": "86ac9af7",
   "metadata": {
    "ExecuteTime": {
     "end_time": "2022-04-06T05:19:46.078782Z",
     "start_time": "2022-04-06T05:19:46.078770Z"
    }
   },
   "outputs": [],
   "source": [
    "import torch.nn.functional as F\n",
    "cost = F.mse_loss(prediction, y_train)"
   ]
  },
  {
   "cell_type": "markdown",
   "id": "57e99a92",
   "metadata": {},
   "source": [
    "## 단순 선형 회귀 구현하기"
   ]
  },
  {
   "cell_type": "code",
   "execution_count": 76,
   "id": "949f6be3",
   "metadata": {
    "ExecuteTime": {
     "end_time": "2022-04-06T05:20:16.006030Z",
     "start_time": "2022-04-06T05:20:16.001061Z"
    }
   },
   "outputs": [
    {
     "data": {
      "text/plain": [
       "<torch._C.Generator at 0x7f826b735a70>"
      ]
     },
     "execution_count": 76,
     "metadata": {},
     "output_type": "execute_result"
    }
   ],
   "source": [
    "import torch\n",
    "import torch.nn as nn\n",
    "import torch.nn.functional as F\n",
    "\n",
    "torch.manual_seed(1)"
   ]
  },
  {
   "cell_type": "markdown",
   "id": "1dec1e59",
   "metadata": {},
   "source": [
    "- 이제 데이터를 선언함\n",
    "- 아래 데이터는 y=2x를 가정한 상태에서 만들어진 데이터로 우리는 이미 정답이 W=2, b=0임을 알고 있는 상태임\n",
    "- 모델이 이 두 W와 b의 값을 제대로 찾아내도록 하는 것이 목표!"
   ]
  },
  {
   "cell_type": "code",
   "execution_count": 77,
   "id": "0f6ce2bb",
   "metadata": {
    "ExecuteTime": {
     "end_time": "2022-04-06T05:20:16.010960Z",
     "start_time": "2022-04-06T05:20:16.008263Z"
    }
   },
   "outputs": [],
   "source": [
    "x_train = torch.FloatTensor([[1], [2], [3]])\n",
    "y_train = torch.FloatTensor([[2], [4], [6]])"
   ]
  },
  {
   "cell_type": "markdown",
   "id": "555f4634",
   "metadata": {},
   "source": [
    "- 데이터를 정의하였으니 이제 선형 회귀 모델을 구현할 차례임\n",
    "- `nn.Linear()`는 입력의 차원, 출력의 차원을 인수로 받음"
   ]
  },
  {
   "cell_type": "code",
   "execution_count": 78,
   "id": "2f4b7141",
   "metadata": {
    "ExecuteTime": {
     "end_time": "2022-04-06T05:20:16.014831Z",
     "start_time": "2022-04-06T05:20:16.012419Z"
    }
   },
   "outputs": [],
   "source": [
    "# 모델을 선언 및 초기화. 단순 선형 회귀이므로 input_dim=1, output_dim=1.\n",
    "model = nn.Linear(1,1)"
   ]
  },
  {
   "cell_type": "markdown",
   "id": "5638e722",
   "metadata": {},
   "source": [
    "- 위 `torch.nn.Linear` 인자로 1, 1을 사용함\n",
    "- 하나의 입력 x에 대해서 하나의 출력 y를 가지므로 입력 차원과 출력 차원 모두 1을 인수로 사용함\n",
    "- model에는 가중치 W와 편향 b가 저장되어있음\n",
    "- 이 값은 `model.parameters()`라는 함수를 사용하여 불러올 수 있음"
   ]
  },
  {
   "cell_type": "code",
   "execution_count": 79,
   "id": "257f020e",
   "metadata": {
    "ExecuteTime": {
     "end_time": "2022-04-06T05:20:16.019933Z",
     "start_time": "2022-04-06T05:20:16.016847Z"
    }
   },
   "outputs": [
    {
     "name": "stdout",
     "output_type": "stream",
     "text": [
      "[Parameter containing:\n",
      "tensor([[0.5153]], requires_grad=True), Parameter containing:\n",
      "tensor([-0.4414], requires_grad=True)]\n"
     ]
    }
   ],
   "source": [
    "print(list(model.parameters()))"
   ]
  },
  {
   "cell_type": "markdown",
   "id": "84bdee78",
   "metadata": {},
   "source": [
    "- 2개의 값이 출력되는데 첫번째 값이 W고, 두번째 값이 b임\n",
    "- 두 값 모두 현재는 랜덤 초기화가 된 상태임\n",
    "- 그리고 두 값 모두 학습의 대상이므로 `requires_grad=True`로 설정해주기\n",
    "\n",
    "\n",
    "- 이제 optimizer를 정의할 것임\n",
    "- `model.parameters()`를 사용하여 W, b를 전달함\n",
    "- learning rate : 0.01로 설정"
   ]
  },
  {
   "cell_type": "code",
   "execution_count": 80,
   "id": "efaddb7b",
   "metadata": {
    "ExecuteTime": {
     "end_time": "2022-04-06T05:20:16.023624Z",
     "start_time": "2022-04-06T05:20:16.021422Z"
    }
   },
   "outputs": [],
   "source": [
    "# optimizer 설정\n",
    "optimizer = torch.optim.SGD(model.parameters(), lr=0.01)"
   ]
  },
  {
   "cell_type": "code",
   "execution_count": 81,
   "id": "3333c061",
   "metadata": {
    "ExecuteTime": {
     "end_time": "2022-04-06T05:20:16.336801Z",
     "start_time": "2022-04-06T05:20:16.025394Z"
    }
   },
   "outputs": [
    {
     "name": "stdout",
     "output_type": "stream",
     "text": [
      "Epoch    0/2000 Cost: 13.103541\n",
      "Epoch  100/2000 Cost: 0.002791\n",
      "Epoch  200/2000 Cost: 0.001724\n",
      "Epoch  300/2000 Cost: 0.001066\n",
      "Epoch  400/2000 Cost: 0.000658\n",
      "Epoch  500/2000 Cost: 0.000407\n",
      "Epoch  600/2000 Cost: 0.000251\n",
      "Epoch  700/2000 Cost: 0.000155\n",
      "Epoch  800/2000 Cost: 0.000096\n",
      "Epoch  900/2000 Cost: 0.000059\n",
      "Epoch 1000/2000 Cost: 0.000037\n",
      "Epoch 1100/2000 Cost: 0.000023\n",
      "Epoch 1200/2000 Cost: 0.000014\n",
      "Epoch 1300/2000 Cost: 0.000009\n",
      "Epoch 1400/2000 Cost: 0.000005\n",
      "Epoch 1500/2000 Cost: 0.000003\n",
      "Epoch 1600/2000 Cost: 0.000002\n",
      "Epoch 1700/2000 Cost: 0.000001\n",
      "Epoch 1800/2000 Cost: 0.000001\n",
      "Epoch 1900/2000 Cost: 0.000000\n",
      "Epoch 2000/2000 Cost: 0.000000\n"
     ]
    }
   ],
   "source": [
    "# 전체 훈련 데이터에 대해 경사 하강법을 2,000회 반복\n",
    "nb_epochs = 2000\n",
    "for epoch in range(nb_epochs+1):\n",
    "    \n",
    "    # H(x) 계산\n",
    "    prediction = model(x_train)\n",
    "    \n",
    "    # cost 계산\n",
    "    cost = F.mse_loss(prediction, y_train) # F.mse_loss : PyTorch에서 제공하는 평균 제곱 오차 함수\n",
    "    \n",
    "    # cost로 H(x) 개선하는 부분\n",
    "    # gradient를 0으로 초기화\n",
    "    optimizer.zero_grad()\n",
    "    \n",
    "    # 비용 함수를 미분하여 gradient 계산\n",
    "    cost.backward() # backward 계산\n",
    "    \n",
    "    # W, b를 업데이트\n",
    "    optimizer.step()\n",
    "    \n",
    "    if epoch % 100 == 0:\n",
    "        # 100번마다 로그 출력\n",
    "        print('Epoch {:4d}/{} Cost: {:.6f}'.format(epoch, nb_epochs, cost.item()))"
   ]
  },
  {
   "cell_type": "markdown",
   "id": "6253edff",
   "metadata": {},
   "source": [
    "- 학습이 완료되었는데 Cost의 값이 매우 작음\n",
    "- W와 b의 값도 최적화가 되었는지 확인해보기\n",
    "- x에 임의의 값 4를 넣어 모델이 예측하는 y의 값을 확인해보기"
   ]
  },
  {
   "cell_type": "code",
   "execution_count": 82,
   "id": "0fc2dabb",
   "metadata": {
    "ExecuteTime": {
     "end_time": "2022-04-06T05:23:16.531447Z",
     "start_time": "2022-04-06T05:23:16.526748Z"
    }
   },
   "outputs": [
    {
     "name": "stdout",
     "output_type": "stream",
     "text": [
      "훈련 후 입력이 4일 때의 예측값 : tensor([[7.9989]], grad_fn=<AddmmBackward0>)\n"
     ]
    }
   ],
   "source": [
    "# 임의의 입력 4를 선언\n",
    "new_var =  torch.FloatTensor([[4.0]]) \n",
    "\n",
    "# 입력한 값 4에 대해서 예측값 y를 리턴받아서 pred_y에 저장\n",
    "pred_y = model(new_var) # forward 연산\n",
    "\n",
    "# y = 2x 이므로 입력이 4라면 y가 8에 가까운 값이 나와야 제대로 학습이 된 것\n",
    "print(\"훈련 후 입력이 4일 때의 예측값 :\", pred_y) "
   ]
  },
  {
   "cell_type": "markdown",
   "id": "f9b14367",
   "metadata": {},
   "source": [
    "- 사실 이 문제의 정답은 y=2x가 정답이므로 y값이 8에 가까우면 W와 b의 값이 어느정도 최적화가 된 것임\n",
    "- 실제로 예측된 y값은 7.9989로 8에 매우 가까움\n",
    "\n",
    "\n",
    "- 학습 후의 W, b의 값을 출력해보면.."
   ]
  },
  {
   "cell_type": "code",
   "execution_count": 83,
   "id": "bed4a7b3",
   "metadata": {
    "ExecuteTime": {
     "end_time": "2022-04-06T05:25:17.330861Z",
     "start_time": "2022-04-06T05:25:17.327233Z"
    }
   },
   "outputs": [
    {
     "name": "stdout",
     "output_type": "stream",
     "text": [
      "[Parameter containing:\n",
      "tensor([[1.9994]], requires_grad=True), Parameter containing:\n",
      "tensor([0.0014], requires_grad=True)]\n"
     ]
    }
   ],
   "source": [
    "print(list(model.parameters()))"
   ]
  },
  {
   "cell_type": "markdown",
   "id": "dc6536ac",
   "metadata": {},
   "source": [
    "- W의 값이 2에 가깝고, b의 값이 0에 가까움 -> 모델 훈련이 잘 되었다고 볼 수 있음\n",
    "\n",
    "\n",
    "- H(x)식에 입력 x로부터 예측된 y를 얻는 것을 forward 연산이라고 함\n",
    "- 학습 전 `prediction = model(x_train)`은 x_train으로부터 예측값을 리턴하므로 forward 연산\n",
    "- 학습 후 `pred_y = model(new_var)`는 임의의 값 new_var로부터 예측값을 리턴하므로 forward 연산\n",
    "- 학습 과정에서 비용 함수를 미분하여 기울기를 구하는 것을 backward 연산\n",
    "- `cost.backward()`는 비용 함수로부터 기울기를 구하라는 의미이며 backward 연산"
   ]
  },
  {
   "cell_type": "code",
   "execution_count": null,
   "id": "59486a62",
   "metadata": {},
   "outputs": [],
   "source": []
  },
  {
   "cell_type": "code",
   "execution_count": null,
   "id": "ef848473",
   "metadata": {},
   "outputs": [],
   "source": []
  },
  {
   "cell_type": "code",
   "execution_count": null,
   "id": "9736d69a",
   "metadata": {},
   "outputs": [],
   "source": []
  },
  {
   "cell_type": "code",
   "execution_count": null,
   "id": "fdba4fb4",
   "metadata": {},
   "outputs": [],
   "source": []
  },
  {
   "cell_type": "code",
   "execution_count": null,
   "id": "71482149",
   "metadata": {},
   "outputs": [],
   "source": []
  },
  {
   "cell_type": "code",
   "execution_count": null,
   "id": "9ffc66ca",
   "metadata": {},
   "outputs": [],
   "source": []
  },
  {
   "cell_type": "code",
   "execution_count": null,
   "id": "fa8c6f90",
   "metadata": {},
   "outputs": [],
   "source": []
  },
  {
   "cell_type": "code",
   "execution_count": null,
   "id": "e623883c",
   "metadata": {},
   "outputs": [],
   "source": []
  },
  {
   "cell_type": "code",
   "execution_count": null,
   "id": "f2f86659",
   "metadata": {},
   "outputs": [],
   "source": []
  }
 ],
 "metadata": {
  "kernelspec": {
   "display_name": "Python 3 (ipykernel)",
   "language": "python",
   "name": "python3"
  },
  "language_info": {
   "codemirror_mode": {
    "name": "ipython",
    "version": 3
   },
   "file_extension": ".py",
   "mimetype": "text/x-python",
   "name": "python",
   "nbconvert_exporter": "python",
   "pygments_lexer": "ipython3",
   "version": "3.9.10"
  },
  "toc": {
   "base_numbering": 1,
   "nav_menu": {},
   "number_sections": true,
   "sideBar": true,
   "skip_h1_title": false,
   "title_cell": "Table of Contents",
   "title_sidebar": "Contents",
   "toc_cell": false,
   "toc_position": {
    "height": "calc(100% - 180px)",
    "left": "10px",
    "top": "150px",
    "width": "256px"
   },
   "toc_section_display": true,
   "toc_window_display": false
  }
 },
 "nbformat": 4,
 "nbformat_minor": 5
}
