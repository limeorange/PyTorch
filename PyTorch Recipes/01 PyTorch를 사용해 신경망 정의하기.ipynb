{
 "cells": [
  {
   "cell_type": "code",
   "execution_count": 1,
   "id": "b6e7e04b",
   "metadata": {
    "ExecuteTime": {
     "end_time": "2022-04-04T07:01:18.156613Z",
     "start_time": "2022-04-04T07:01:18.144593Z"
    }
   },
   "outputs": [],
   "source": [
    "# 결과 확인을 용이하게 하기 위한 코드\n",
    "from IPython.core.interactiveshell import InteractiveShell\n",
    "InteractiveShell.ast_node_interactivity = 'all'"
   ]
  },
  {
   "cell_type": "markdown",
   "id": "494af07d",
   "metadata": {},
   "source": [
    "- 딥러닝은 인공신경망(models)을 사용하며 이것은 상호연결된 집단의 많은 계층으로 구성된 계산 시스템임\n",
    "- 데이터가 이 상호연결된 집단을 통과하면서, 신경망은 입력을 출력으로 바꾸기 위해 요구된 계산 방법에 어떻게 접근하는지 배울 수 있음\n",
    "- PyTorch에서 신경망은 `torch.nn` 패키지를 사용해 구성할 수 있음"
   ]
  },
  {
   "cell_type": "markdown",
   "id": "208f9214",
   "metadata": {},
   "source": [
    "# 소개\n",
    "- PyTorch는 `torch.nn`을 포함하여 신경망을 만들고 훈련시키는 것을 도울 수 있도록 섬세하게 만들어진 모듈과 클래스들을 제공함\n",
    "- `nn.Module`은 계층과 output을 반환하는 `forward(input)` 메소드를 포함하고 있음\n",
    "\n",
    "- 이 레시피에서 MNIST dataset을 사용하여 신경망을 정의하기 위해 `torch.nn`을 사용할 예정임"
   ]
  },
  {
   "cell_type": "markdown",
   "id": "0fa6d573",
   "metadata": {},
   "source": [
    "# 단계\n",
    "1. 데이터를 가져오기 위해 필요한 라이브러리들 불러오기\n",
    "2. 신경망을 정의하고 초기화하기\n",
    "3. 데이터가 모델을 어떻게 지나갈 지 구체화하기\n",
    "4. [선택사항] 데이터를 모델에 적용해 테스트하기"
   ]
  },
  {
   "cell_type": "markdown",
   "id": "0a5b8f3d",
   "metadata": {},
   "source": [
    "## 데이터를 가져오기 위해 필요한 라이브러리들 불러오기\n",
    "- `torch`와 이것의 하위 모듈인 `torch.nn`, `torch.nn.functional`을 사용할 것임"
   ]
  },
  {
   "cell_type": "code",
   "execution_count": 2,
   "id": "619dbb8b",
   "metadata": {
    "ExecuteTime": {
     "end_time": "2022-04-04T07:20:00.564266Z",
     "start_time": "2022-04-04T07:20:00.020343Z"
    }
   },
   "outputs": [],
   "source": [
    "import torch\n",
    "import torch.nn as nn\n",
    "import torch.nn.functional as F"
   ]
  },
  {
   "cell_type": "markdown",
   "id": "1265eaf2",
   "metadata": {},
   "source": [
    "## 신경망을 정의하고 초기화하기\n",
    "- 이미지를 인식하는 신경망을 만들 것임\n",
    "- PyTorch에서 만들어진 합성곱(convolution)이라고 불리는 방법을 사용할 것임\n",
    "- 합성곱은 커널이나 작은 행렬을 통해 가중치를 부여한 이미지의 각 요소를 주변 값과 더함\n",
    "- 그리고 이것은 입력된 이미지의 특징(모서리 감지, 선명함, 흐릿함 등)을 추출하는 데 도움을 줌\n",
    "\n",
    "\n",
    "- 모델의 `Net` 클래스를 정의하기 위해 2가지가 필요함\n",
    "    - 1) `nn.Module`을 참고하는 `__init__` 함수를 작성하는 것\n",
    "        - 이 함수는 신경망에서 fully connected layers를 만드는 것에 사용됨\n",
    "    - 2) 합성곱을 사용해 1개의 입력 이미지 채널을 가지고 목표인 0~9까지 숫자를 대표하는 10개의 라벨과 대응하는 값을 출력하는 모델을 정의하기"
   ]
  },
  {
   "cell_type": "code",
   "execution_count": 4,
   "id": "2682a8eb",
   "metadata": {
    "ExecuteTime": {
     "end_time": "2022-04-04T07:35:50.443101Z",
     "start_time": "2022-04-04T07:35:50.430120Z"
    }
   },
   "outputs": [
    {
     "name": "stdout",
     "output_type": "stream",
     "text": [
      "Net(\n",
      "  (conv1): Conv2d(1, 32, kernel_size=(3, 3), stride=(1, 1))\n",
      "  (conv2): Conv2d(32, 64, kernel_size=(3, 3), stride=(1, 1))\n",
      "  (dropout1): Dropout2d(p=0.25, inplace=False)\n",
      "  (dropout2): Dropout2d(p=0.5, inplace=False)\n",
      "  (fc1): Linear(in_features=9216, out_features=128, bias=True)\n",
      "  (fc2): Linear(in_features=128, out_features=10, bias=True)\n",
      ")\n"
     ]
    }
   ],
   "source": [
    "class Net(nn.Module):\n",
    "    def __init__(self):\n",
    "        super(Net, self).__init__()\n",
    "        \n",
    "        # 첫 번째 2D 합성곱 계층\n",
    "        # 1개의 입력 채널(이미지)을 받아들이고, 사각 커널 사이즈가 3인 32개의 합성곱 특징을 출력함\n",
    "        self.conv1 = nn.Conv2d(1, 32, 3, 1) # in_채널, out_채널, kernel_size, stride\n",
    "        \n",
    "        #두 번째 2D 합성곱 계층\n",
    "        # 32개의 입력 계층을 받아들이고, 사각 커널 사이즈가 3인 64개의 합성곱 특징을 출력함\n",
    "        self.conv2 = nn.Conv2d(32, 64, 3, 1)\n",
    "        \n",
    "        # 인접한 픽셀들은 입력 확률에 따라 모두 0 값을 가지거나 혹은 모두 유효한 값이 되도록 만듦\n",
    "        self.dropout1 = nn.Dropout2d(0.25)\n",
    "        self.dropout2 = nn.Dropout2d(0.5)\n",
    "        \n",
    "        # 첫 번째 fully connected layer\n",
    "        self.fc1 = nn.Linear(9216, 128) # in_features, out_features\n",
    "        # 10개의 라벨을 출력하는 두 번째 fully connected layer\n",
    "        self.fc2 = nn.Linear(128, 10)\n",
    "\n",
    "my_nn = Net()\n",
    "print(my_nn)"
   ]
  },
  {
   "cell_type": "markdown",
   "id": "74d57a64",
   "metadata": {},
   "source": [
    "## 데이터가 모델을 어떻게 지나갈 지 구체화하기\n",
    "- PyTorch를 사용해 모델을 생성할 때, 계산 그래프(즉, 신경망)에 데이터를 지나가게 하는 `forward` 함수를 정의해야 함\n",
    "- 이것은 feed-forward 알고리즘을 나타냄\n",
    "- `forward` 함수에서 어떠한 Tensor 연산자도 사용 가능함"
   ]
  },
  {
   "cell_type": "code",
   "execution_count": 5,
   "id": "34bc0ce5",
   "metadata": {
    "ExecuteTime": {
     "end_time": "2022-04-04T07:46:20.168679Z",
     "start_time": "2022-04-04T07:46:20.162849Z"
    }
   },
   "outputs": [],
   "source": [
    "class Net(nn.Module):\n",
    "    def __init__(self):\n",
    "        super(Net, self).__init__()\n",
    "        self.conv1 = nn.Conv2d(1, 32, 3, 1)\n",
    "        self.conv2 = nn.Conv2d(32, 64, 3, 1)\n",
    "        self.dropout1 = nn.Dropout2d(0.25)\n",
    "        self.dropout2 = nn.Dropout2d(0.5)\n",
    "        self.fc1 = nn.Linear(9216, 128)\n",
    "        self.fc2 = nn.Linear(128, 10)\n",
    "    \n",
    "    # x는 데이터를 나타냄\n",
    "    def forward(self, x):\n",
    "        \n",
    "        # 데이터가 conv1을 지나감\n",
    "        x = self.conv1(x)\n",
    "        \n",
    "        # x를 ReLU 활성함수에 대입함\n",
    "        x = F.relu(x)\n",
    "        \n",
    "        x = self.conv2(x)\n",
    "        x = F.relu(x)\n",
    "        \n",
    "        # x에 대해서 max pooling을 실행함\n",
    "        x = F.max_pool2d(x, 2)\n",
    "        \n",
    "        # 데이터가 dropout1을 지나감\n",
    "        x = self.dropout1(x)\n",
    "        \n",
    "        # start_dim = 1로 x를 압축함\n",
    "        x = torch.flatten(x, 1)\n",
    "        \n",
    "        # 데이터가 fc1을 지나감\n",
    "        x = self.fc1(x)\n",
    "        x = F.relu(x)\n",
    "        x = self.dropout2(x)\n",
    "        x = self.fc2(x)\n",
    "        \n",
    "        # x에 softmax를 적용함\n",
    "        output = F.log_softmax(x, dim=1)\n",
    "        return output"
   ]
  },
  {
   "cell_type": "markdown",
   "id": "fab3c6b1",
   "metadata": {},
   "source": [
    "## [선택사항] 데이터를 모델에 적용해 테스트하기\n",
    "- 원하는 출력값을 받을 수 있는지 확인하기 위해 무작위의 데이터를 모델에 통과시켜 시험해보기"
   ]
  },
  {
   "cell_type": "code",
   "execution_count": 6,
   "id": "1f19944a",
   "metadata": {
    "ExecuteTime": {
     "end_time": "2022-04-04T07:49:22.897914Z",
     "start_time": "2022-04-04T07:49:22.866434Z"
    }
   },
   "outputs": [
    {
     "name": "stdout",
     "output_type": "stream",
     "text": [
      "tensor([[-2.2580, -2.3187, -2.3196, -2.3442, -2.2462, -2.2624, -2.2871, -2.2367,\n",
      "         -2.3775, -2.3886]], grad_fn=<LogSoftmaxBackward0>)\n"
     ]
    },
    {
     "name": "stderr",
     "output_type": "stream",
     "text": [
      "/Users/lsh/Library/Python/3.9/lib/python/site-packages/torch/nn/functional.py:1320: UserWarning: dropout2d: Received a 2-D input to dropout2d, which is deprecated and will result in an error in a future release. To retain the behavior and silence this warning, please use dropout instead. Note that dropout2d exists to provide channel-wise dropout on inputs with 2 spatial dimensions, a channel dimension, and an optional batch dimension (i.e. 3D or 4D inputs).\n",
      "  warnings.warn(warn_msg)\n"
     ]
    }
   ],
   "source": [
    "# 임의로 28x28 이미지로 맞춰줌\n",
    "random_data = torch.rand((1, 1, 28, 28))\n",
    "\n",
    "my_nn = Net()\n",
    "result = my_nn(random_data)\n",
    "print(result)"
   ]
  }
 ],
 "metadata": {
  "kernelspec": {
   "display_name": "Python 3 (ipykernel)",
   "language": "python",
   "name": "python3"
  },
  "language_info": {
   "codemirror_mode": {
    "name": "ipython",
    "version": 3
   },
   "file_extension": ".py",
   "mimetype": "text/x-python",
   "name": "python",
   "nbconvert_exporter": "python",
   "pygments_lexer": "ipython3",
   "version": "3.9.10"
  },
  "toc": {
   "base_numbering": 1,
   "nav_menu": {},
   "number_sections": true,
   "sideBar": true,
   "skip_h1_title": false,
   "title_cell": "Table of Contents",
   "title_sidebar": "Contents",
   "toc_cell": false,
   "toc_position": {},
   "toc_section_display": true,
   "toc_window_display": false
  }
 },
 "nbformat": 4,
 "nbformat_minor": 5
}
