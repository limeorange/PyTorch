{
 "cells": [
  {
   "cell_type": "code",
   "execution_count": 1,
   "id": "1553c3ed",
   "metadata": {
    "ExecuteTime": {
     "end_time": "2022-04-05T01:15:01.498195Z",
     "start_time": "2022-04-05T01:15:01.485140Z"
    }
   },
   "outputs": [],
   "source": [
    "# 결과 확인을 용이하게 하기 위한 코드\n",
    "from IPython.core.interactiveshell import InteractiveShell\n",
    "InteractiveShell.ast_node_interactivity = 'all'"
   ]
  },
  {
   "cell_type": "markdown",
   "id": "79f7df31",
   "metadata": {},
   "source": [
    "- [06 PyTorch에서 다른 모델의 매개변수를 사용하여 빠르게 모델 시작하기(WARM START)](https://tutorials.pytorch.kr/recipes/recipes/warmstarting_model_using_parameters_from_a_different_model.html)\n",
    "- 모델을 부분적으로 불러오는 것은 학습 전이(Transfer learning)나 복잡한 모델을 새로 학습할 때 자주 접하는 시나리오임\n",
    "- 학습된 매개변수를 활용하면 학습 과정을 빠르게 시작(warmstart)할 수 있음\n",
    "- 그러면 모델을 처음부터 훈련시킬 때보다 훨씬 일찍 수렴하리라 기대할 수 있음\n",
    "- 이는 활용할 수 있는 매개변수가 얼마 안 될 때에도 마찬가지임"
   ]
  },
  {
   "cell_type": "markdown",
   "id": "25b358af",
   "metadata": {},
   "source": [
    "# 도입\n",
    "- 일부 키가 누락된 부분적인 `state_dict`를 불러올 때든 아니면 결과를 저장할 모델보다 키가 많은 `state_dict`를 불러올 때든 `load_state_dict()` 함수의 인자인 `strict`를 `False`로 두면 매치되지 않는 키를 무시하게 할 수 있음\n",
    "- 다른 모델의 매개변수를 사용하여 모델을 빠르게 시작하는 실험을 진행해 볼 것임"
   ]
  },
  {
   "cell_type": "markdown",
   "id": "4ae2dd9c",
   "metadata": {},
   "source": [
    "# 단계\n",
    "1. 데이터를 불러오는데 필요한 모든 라이브러리를 import 하기\n",
    "2. 신경망 A와 B를 정의하고 초기화하기\n",
    "3. 모델 A를 저장하기\n",
    "4. 모델 B로 모델을 불러오기"
   ]
  },
  {
   "cell_type": "markdown",
   "id": "be305f09",
   "metadata": {},
   "source": [
    "## 데이터를 불러오는데 필요한 모든 라이브러리를 import 하기\n",
    "- `torch`와 여기 포함된 `torch.nn`과 `torch.optim`을 사용할 것임"
   ]
  },
  {
   "cell_type": "code",
   "execution_count": 2,
   "id": "5257da06",
   "metadata": {
    "ExecuteTime": {
     "end_time": "2022-04-05T01:20:25.618776Z",
     "start_time": "2022-04-05T01:20:24.567132Z"
    }
   },
   "outputs": [],
   "source": [
    "import torch\n",
    "import torch.nn as nn\n",
    "import torch.optim as optim"
   ]
  },
  {
   "cell_type": "markdown",
   "id": "d44a8f43",
   "metadata": {},
   "source": [
    "## 신경망 A와 B를 정의하고 초기화하기\n",
    "- 하나의 예로써 이미지를 학습하는 신경망을 만들어 볼 것임 \n",
    "- 여기서는 신경망을 두 개 만들려고 하며, 신경망 A의 매개변수를 신경망 B로 불러올 것임"
   ]
  },
  {
   "cell_type": "code",
   "execution_count": null,
   "id": "44f5bf11",
   "metadata": {},
   "outputs": [],
   "source": [
    "class NetA(nn.Module):\n",
    "    def __init__(self):\n",
    "        super(NetA, self).__init__()\n",
    "        self.conv1 = nn.Conv2d(3, 6, 5) # in_channel, out_channel, kernel_size\n",
    "        self.pool = nn.MaxPool2d(2, 2)\n",
    "        self.conv2 = nn.Conv2d(6, 16, 5)\n",
    "        self.fc1 = nn.Linear(16 * 5 * 5, 120)\n",
    "        self.fc2 = nn.Linear(120, 84)\n",
    "        self.fc3 = nn.Linear(84, 10)"
   ]
  },
  {
   "cell_type": "code",
   "execution_count": null,
   "id": "f918b969",
   "metadata": {},
   "outputs": [],
   "source": []
  },
  {
   "cell_type": "code",
   "execution_count": null,
   "id": "d87bdf27",
   "metadata": {},
   "outputs": [],
   "source": []
  },
  {
   "cell_type": "code",
   "execution_count": null,
   "id": "0c8f6882",
   "metadata": {},
   "outputs": [],
   "source": []
  },
  {
   "cell_type": "code",
   "execution_count": null,
   "id": "6fc5f885",
   "metadata": {},
   "outputs": [],
   "source": []
  },
  {
   "cell_type": "code",
   "execution_count": null,
   "id": "14e4965d",
   "metadata": {},
   "outputs": [],
   "source": []
  },
  {
   "cell_type": "code",
   "execution_count": null,
   "id": "b57132a1",
   "metadata": {},
   "outputs": [],
   "source": []
  },
  {
   "cell_type": "code",
   "execution_count": null,
   "id": "29791c64",
   "metadata": {},
   "outputs": [],
   "source": []
  }
 ],
 "metadata": {
  "kernelspec": {
   "display_name": "Python 3 (ipykernel)",
   "language": "python",
   "name": "python3"
  },
  "language_info": {
   "codemirror_mode": {
    "name": "ipython",
    "version": 3
   },
   "file_extension": ".py",
   "mimetype": "text/x-python",
   "name": "python",
   "nbconvert_exporter": "python",
   "pygments_lexer": "ipython3",
   "version": "3.9.10"
  },
  "toc": {
   "base_numbering": 1,
   "nav_menu": {},
   "number_sections": true,
   "sideBar": true,
   "skip_h1_title": false,
   "title_cell": "Table of Contents",
   "title_sidebar": "Contents",
   "toc_cell": false,
   "toc_position": {},
   "toc_section_display": true,
   "toc_window_display": false
  }
 },
 "nbformat": 4,
 "nbformat_minor": 5
}
