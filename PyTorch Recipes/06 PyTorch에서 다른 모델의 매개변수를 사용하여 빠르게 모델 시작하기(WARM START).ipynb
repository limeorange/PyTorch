{
 "cells": [
  {
   "cell_type": "code",
   "execution_count": 2,
   "id": "e4a402c4",
   "metadata": {
    "ExecuteTime": {
     "end_time": "2022-04-05T08:35:42.254678Z",
     "start_time": "2022-04-05T08:35:42.251981Z"
    }
   },
   "outputs": [],
   "source": [
    "# 결과 확인을 용이하게 하기 위한 코드\n",
    "from IPython.core.interactiveshell import InteractiveShell\n",
    "InteractiveShell.ast_node_interactivity = 'all'"
   ]
  },
  {
   "cell_type": "markdown",
   "id": "2a6b0a22",
   "metadata": {},
   "source": [
    "- [06 PyTorch에서 다른 모델의 매개변수를 사용하여 빠르게 모델 시작하기(WARM START)](https://tutorials.pytorch.kr/recipes/recipes/warmstarting_model_using_parameters_from_a_different_model.html)\n",
    "- 모델을 부분적으로 불러오는 것은 학습 전이(Transfer learning)나 복잡한 모델을 새로 학습할 때 자주 접하는 시나리오임\n",
    "- 학습된 매개변수를 활용하면 학습 과정을 빠르게 시작(warmstart)할 수 있음\n",
    "- 그러면 모델을 처음부터 훈련시킬 때보다 훨씬 일찍 수렴하리라 기대할 수 있음\n",
    "- 이는 활용할 수 있는 매개변수가 얼마 안 될 때에도 마찬가지임"
   ]
  },
  {
   "cell_type": "markdown",
   "id": "ee68dbc6",
   "metadata": {},
   "source": [
    "# 도입\n",
    "- 일부 키가 누락된 부분적인 `state_dict`를 불러올 때든 아니면 결과를 저장할 모델보다 키가 많은 `state_dict`를 불러올 때든 `load_state_dict()` 함수의 인자인 `strict`를 `False`로 두면 매치되지 않는 키를 무시하게 할 수 있음\n",
    "- 다른 모델의 매개변수를 사용하여 모델을 빠르게 시작하는 실험을 진행해 볼 것임"
   ]
  },
  {
   "cell_type": "markdown",
   "id": "8ec6c488",
   "metadata": {},
   "source": [
    "# 단계\n",
    "1. 데이터를 불러오는데 필요한 모든 라이브러리를 import 하기\n",
    "2. 신경망 A와 B를 정의하고 초기화하기\n",
    "3. 모델 A를 저장하기\n",
    "4. 모델 B로 모델을 불러오기"
   ]
  },
  {
   "cell_type": "markdown",
   "id": "ebcdde44",
   "metadata": {},
   "source": [
    "## 데이터를 불러오는데 필요한 모든 라이브러리를 import 하기\n",
    "- `torch`와 여기 포함된 `torch.nn`과 `torch.optim`을 사용할 것임"
   ]
  },
  {
   "cell_type": "code",
   "execution_count": 3,
   "id": "40c97cd8",
   "metadata": {
    "ExecuteTime": {
     "end_time": "2022-04-05T08:35:42.666362Z",
     "start_time": "2022-04-05T08:35:42.257042Z"
    }
   },
   "outputs": [],
   "source": [
    "import torch\n",
    "import torch.nn as nn\n",
    "import torch.optim as optim"
   ]
  },
  {
   "cell_type": "markdown",
   "id": "cd52ba47",
   "metadata": {},
   "source": [
    "## 신경망 A와 B를 정의하고 초기화하기\n",
    "- 하나의 예로써 이미지를 학습하는 신경망을 만들어 볼 것임 \n",
    "- 여기서는 신경망을 두 개 만들려고 하며, 신경망 A의 매개변수를 신경망 B로 불러올 것임"
   ]
  },
  {
   "cell_type": "code",
   "execution_count": 5,
   "id": "1cb18cf8",
   "metadata": {
    "ExecuteTime": {
     "end_time": "2022-04-05T08:35:55.335987Z",
     "start_time": "2022-04-05T08:35:55.325227Z"
    }
   },
   "outputs": [],
   "source": [
    "class NetA(nn.Module):\n",
    "    def __init__(self):\n",
    "        super(NetA, self).__init__()\n",
    "        self.conv1 = nn.Conv2d(3, 6, 5) # in_channels, out_channels, kernel_size\n",
    "        self.pool = nn.MaxPool2d(2, 2)\n",
    "        self.conv2 = nn.Conv2d(6, 16, 5)\n",
    "        self.fc1 = nn.Linear(16 * 5 * 5, 120) # in_features, out_features, bias(default = True)\n",
    "        self.fc2 = nn.Linear(120, 84)\n",
    "        self.fc3 = nn.Linear(84, 10)\n",
    "    \n",
    "    def forward(self, x):\n",
    "        x = self.pool(F.relu(self.conv1(x)))\n",
    "        x = self.pool(F.relu(self.conv2(x)))\n",
    "        x = x.view(-1, 16 * 5 * 5)\n",
    "        x = F.relu(self.fc1(x))\n",
    "        x = F.relu(self.fc2(x))\n",
    "        x = self.fc3(x)\n",
    "        return x\n",
    "\n",
    "netA = NetA()\n",
    "\n",
    "class NetB(nn.Module):\n",
    "    def __init__(self):\n",
    "        super(NetB, self).__init__()\n",
    "        self.conv1 = nn.Conv2d(3, 6, 5)\n",
    "        self.pool = nn.MaxPool2d(2, 2)\n",
    "        self.conv2 = nn.Conv2d(6, 16, 5)\n",
    "        self.fc1 = nn.Linear(16 * 5 * 5, 120)\n",
    "        self.fc2 = nn.Linear(120, 84)\n",
    "        self.fc3 = nn.Linear(84, 10)\n",
    "\n",
    "    def forward(self, x):\n",
    "        x = self.pool(F.relu(self.conv1(x)))\n",
    "        x = self.pool(F.relu(self.conv2(x)))\n",
    "        x = x.view(-1, 16 * 5 * 5)\n",
    "        x = F.relu(self.fc1(x))\n",
    "        x = F.relu(self.fc2(x))\n",
    "        x = self.fc3(x)\n",
    "        return x\n",
    "\n",
    "netB = NetB()"
   ]
  },
  {
   "cell_type": "markdown",
   "id": "526790db",
   "metadata": {},
   "source": [
    "## 모델 A 저장하기"
   ]
  },
  {
   "cell_type": "code",
   "execution_count": 6,
   "id": "d4a45218",
   "metadata": {
    "ExecuteTime": {
     "end_time": "2022-04-05T08:36:36.809685Z",
     "start_time": "2022-04-05T08:36:36.803131Z"
    }
   },
   "outputs": [],
   "source": [
    "# 모델을 저장할 경로를 지정해주기\n",
    "PATH = 'model.pt'\n",
    "\n",
    "torch.save(netA.state_dict(), PATH)"
   ]
  },
  {
   "cell_type": "markdown",
   "id": "55e8a92b",
   "metadata": {},
   "source": [
    "## 모델 B로 불러오기\n",
    "- 한 레이어의 매개변수를 다른 레이어로 불러오려 하는데 일부 키가 매치되지 않는 상황이라고 해보자\n",
    "- 그럴 때는 불러오려 하는 `state_dict`의 매개변수 키의 이름을 바꿔서, 불러온 모델을 저장하려는 모델의 키와 매치되도록 해주면 됨"
   ]
  },
  {
   "cell_type": "code",
   "execution_count": 7,
   "id": "98a7f05e",
   "metadata": {
    "ExecuteTime": {
     "end_time": "2022-04-05T08:38:45.668563Z",
     "start_time": "2022-04-05T08:38:45.617654Z"
    }
   },
   "outputs": [
    {
     "data": {
      "text/plain": [
       "<All keys matched successfully>"
      ]
     },
     "execution_count": 7,
     "metadata": {},
     "output_type": "execute_result"
    }
   ],
   "source": [
    "netB.load_state_dict(torch.load(PATH), strict=False)"
   ]
  },
  {
   "cell_type": "markdown",
   "id": "a372af9a",
   "metadata": {},
   "source": [
    "- 모든 키가 성공적으로 매치되었음!"
   ]
  }
 ],
 "metadata": {
  "kernelspec": {
   "display_name": "Python 3 (ipykernel)",
   "language": "python",
   "name": "python3"
  },
  "language_info": {
   "codemirror_mode": {
    "name": "ipython",
    "version": 3
   },
   "file_extension": ".py",
   "mimetype": "text/x-python",
   "name": "python",
   "nbconvert_exporter": "python",
   "pygments_lexer": "ipython3",
   "version": "3.9.10"
  },
  "toc": {
   "base_numbering": 1,
   "nav_menu": {},
   "number_sections": true,
   "sideBar": true,
   "skip_h1_title": false,
   "title_cell": "Table of Contents",
   "title_sidebar": "Contents",
   "toc_cell": false,
   "toc_position": {},
   "toc_section_display": true,
   "toc_window_display": false
  }
 },
 "nbformat": 4,
 "nbformat_minor": 5
}
