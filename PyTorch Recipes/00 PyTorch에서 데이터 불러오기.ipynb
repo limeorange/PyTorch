{
 "cells": [
  {
   "cell_type": "code",
   "execution_count": 28,
   "id": "a3c11c80",
   "metadata": {
    "ExecuteTime": {
     "end_time": "2022-04-04T06:30:33.397203Z",
     "start_time": "2022-04-04T06:30:33.394887Z"
    }
   },
   "outputs": [],
   "source": [
    "# 결과 확인을 용이하게 하기 위한 코드\n",
    "from IPython.core.interactiveshell import InteractiveShell\n",
    "InteractiveShell.ast_node_interactivity = 'all'"
   ]
  },
  {
   "cell_type": "markdown",
   "id": "a6ce2cc7",
   "metadata": {},
   "source": [
    "- `torch.utils.data.DataLoader` : 데이터를 파이썬 iterable로써 접근할 수 있게 해주는 클래스\n",
    "- `torch.utils.data.Dataset` : PyTorch에 내장된 다양한 고품질 데이터셋을 이용하게 해주는 클래스\n",
    "\n",
    "개별 데이터셋은 아래 패키지에서 확인 가능하며, 계속해서 추가될 예정임\n",
    "- [torchvision](https://pytorch.org/vision/stable/datasets.html)\n",
    "- [torchaudio](https://pytorch.org/audio/stable/datasets.html)\n",
    "- [torchtext](https://pytorch.org/text/stable/datasets.html)\n",
    "\n",
    "이번 레시피에서는 `torchaudio.datasets.YESNO` 데이터셋을 살펴보면서 PyTorch `Dataset`에서 PyTorch `DataLoader`로 데이터를 효과적이고 효율적으로 불러오는 방법을 살펴볼 것임. 초기 설정(setup)을 시작하기 전에, 데이터셋이 포함된 `torchaudio` 패키지를 설치해야 함"
   ]
  },
  {
   "cell_type": "code",
   "execution_count": 2,
   "id": "a13023b6",
   "metadata": {
    "ExecuteTime": {
     "end_time": "2022-04-04T05:57:30.110198Z",
     "start_time": "2022-04-04T05:57:30.107729Z"
    }
   },
   "outputs": [],
   "source": [
    "# pip install torchaudio"
   ]
  },
  {
   "cell_type": "markdown",
   "id": "3f59574b",
   "metadata": {},
   "source": [
    "# 단계(steps)\n",
    "1. 데이터를 불러오는데 필요한 라이브러리 import하기\n",
    "2. 데이터 접근하기\n",
    "3. 데이터 불러오기\n",
    "4. 데이터 순회하기\n",
    "5. [선택 사항] 데이터 시각화하기"
   ]
  },
  {
   "cell_type": "markdown",
   "id": "380c43cf",
   "metadata": {},
   "source": [
    "## 데이터를 불러오는데 필요한 라이브러리 import하기"
   ]
  },
  {
   "cell_type": "code",
   "execution_count": 3,
   "id": "666f9111",
   "metadata": {
    "ExecuteTime": {
     "end_time": "2022-04-04T06:00:49.286231Z",
     "start_time": "2022-04-04T06:00:48.196562Z"
    }
   },
   "outputs": [],
   "source": [
    "import torch\n",
    "import torchaudio"
   ]
  },
  {
   "cell_type": "markdown",
   "id": "f565e27a",
   "metadata": {},
   "source": [
    "## 데이터에 접근하기\n",
    "- `torchaudio`의 YesNo 데이터셋은 한 사람이 히브리어로 yes 혹은 no를 녹음한 오디오 클립 60개로 구성됨. 오디오 클립 각각의 길이는 단어 8개\n",
    "- `torchaudio.datasets.YESNO` 클래스를 사용하여 YESNO 데이터셋을 생성함\n",
    "- [torchaudio](https://pytorch.org/audio/stable/datasets.html)"
   ]
  },
  {
   "cell_type": "code",
   "execution_count": 18,
   "id": "ddf3f793",
   "metadata": {
    "ExecuteTime": {
     "end_time": "2022-04-04T06:27:10.912771Z",
     "start_time": "2022-04-04T06:27:10.907633Z"
    }
   },
   "outputs": [
    {
     "data": {
      "text/plain": [
       "<torchaudio.datasets.yesno.YESNO at 0x7fd37d17fc40>"
      ]
     },
     "execution_count": 18,
     "metadata": {},
     "output_type": "execute_result"
    }
   ],
   "source": [
    "# transform, target_transform parameter가 없다고 하는 것 보니 이젠 지원 안하는 듯..?\n",
    "torchaudio.datasets.YESNO(\n",
    "    root='./',\n",
    "    url = 'http://www.openslr.org/resources/1/waves_yesno.tar.gz',\n",
    "    folder_in_archive = 'waves_yesno', # 데이터셋의 최상위 디렉토리(default:'ARCTIC')\n",
    "    download = True, # root에 dataset이 없으면 다운로드 받기(default:'False')\n",
    ")"
   ]
  },
  {
   "cell_type": "markdown",
   "id": "734c7f2a",
   "metadata": {},
   "source": [
    "- 각각의 데이터 항목(item)은 튜플 형태(waveform:파형, sample_rate:샘플 속도, labels:라벨)를 가짐\n",
    "- YesNo 데이터셋을 불러올 때 `root` 매개변수는 꼭 지정해줘야 함\n",
    "    - `root`는 학습(train) 및 테스트(test) dataset이 존재하는 위치를 가리켜야 함\n",
    "    - 그 외의 매개변수는 선택사항임..-> 이라고 하는데 초기에 download=True로 안해주니 에러 남"
   ]
  },
  {
   "cell_type": "code",
   "execution_count": 17,
   "id": "843c4f86",
   "metadata": {
    "ExecuteTime": {
     "end_time": "2022-04-04T06:26:58.926684Z",
     "start_time": "2022-04-04T06:26:58.916374Z"
    }
   },
   "outputs": [
    {
     "name": "stdout",
     "output_type": "stream",
     "text": [
      "Waveform: tensor([[ 3.0518e-05,  6.1035e-05,  3.0518e-05,  ..., -1.8311e-04,\n",
      "          4.2725e-04,  6.7139e-04]])\n",
      "Sample rate: 8000\n",
      "Labels: [0, 0, 1, 0, 0, 0, 1, 0]\n"
     ]
    }
   ],
   "source": [
    "# YesNo 데이터 확인하기\n",
    "# YesNo 안에 각각의 데이터 항목은 튜플 형태(파형, 샘플 속도, 라벨)를 가지며,\n",
    "# 이때 labels는 0(no)과 1(yes)을 담은 리스트 형태로 되어 있음\n",
    "yesno_data = torchaudio.datasets.YESNO('./', download=True)\n",
    "\n",
    "# 실제 데이터에 접근해서 yesno_data의 형태를 확인하기\n",
    "n = 3\n",
    "waveform, sample_rate, labels = yesno_data[3]\n",
    "print(\"Waveform: {}\\nSample rate: {}\\nLabels: {}\".format(waveform, sample_rate, labels))"
   ]
  },
  {
   "cell_type": "markdown",
   "id": "bb6d7806",
   "metadata": {},
   "source": [
    "## 데이터 불러오기\n",
    "- dataset에 접근했으니, 이제 dataset을 `torch.utils.data.DataLoader`로 넘겨줌\n",
    "- `DataLoader`는 dataset을 sampler와 조합시켜 데이터셋을 순회할 수 있는 iterable을 만들어줌\n",
    "- [DataLoader](https://pytorch.org/docs/stable/data.html#torch.utils.data.DataLoader)\n",
    "- [PyTorch 데이터로더 이해하기 - Part 1](https://blog.promedius.ai/pytorch_dataloader_1/)"
   ]
  },
  {
   "cell_type": "code",
   "execution_count": 33,
   "id": "e58ac296",
   "metadata": {
    "ExecuteTime": {
     "end_time": "2022-04-04T06:34:31.550637Z",
     "start_time": "2022-04-04T06:34:31.547904Z"
    }
   },
   "outputs": [],
   "source": [
    "data_loader = torch.utils.data.DataLoader(yesno_data, batch_size=1, shuffle=True)"
   ]
  },
  {
   "cell_type": "markdown",
   "id": "9460d1d9",
   "metadata": {},
   "source": [
    "## 1.4 데이터 순회하기\n",
    "- `data_loader`를 이용해서 데이터를 순회할 수 있음\n",
    "- 모델이 학습하려면 데이터를 순회할 수 있어야 함\n",
    "- 아래 예시를 보면 `data_loader`안에 있는 각각의 데이터 항목이 파형, 샘플 속도, 라벨을 담은 텐서로 바뀌었음"
   ]
  },
  {
   "cell_type": "code",
   "execution_count": 42,
   "id": "32cbd185",
   "metadata": {
    "ExecuteTime": {
     "end_time": "2022-04-04T06:52:58.815781Z",
     "start_time": "2022-04-04T06:52:58.810264Z"
    }
   },
   "outputs": [
    {
     "name": "stdout",
     "output_type": "stream",
     "text": [
      "Data:  [tensor([[[ 3.0518e-05,  6.1035e-05,  3.0518e-05,  ..., -2.3193e-03,\n",
      "          -2.3804e-03, -1.5259e-03]]]), tensor([8000]), [tensor([0]), tensor([1]), tensor([1]), tensor([0]), tensor([0]), tensor([1]), tensor([1]), tensor([0])]]\n",
      "Waveform: tensor([[[ 3.0518e-05,  6.1035e-05,  3.0518e-05,  ..., -2.3193e-03,\n",
      "          -2.3804e-03, -1.5259e-03]]]) \n",
      " Sample rate: tensor([8000]) \n",
      " Labels: [tensor([0]), tensor([1]), tensor([1]), tensor([0]), tensor([0]), tensor([1]), tensor([1]), tensor([0])]\n"
     ]
    }
   ],
   "source": [
    "for data in data_loader:\n",
    "    print('Data: ', data)\n",
    "    print('Waveform: {} \\n Sample rate: {} \\n Labels: {}'.format(data[0], data[1], data[2]))\n",
    "    break"
   ]
  },
  {
   "cell_type": "markdown",
   "id": "049abe2e",
   "metadata": {},
   "source": [
    "## [선택 사항] 데이터 시각화하기\n",
    "- `DataLoader`의 데이터를 시각화해서 더 자세히 확인하기"
   ]
  },
  {
   "cell_type": "code",
   "execution_count": 49,
   "id": "667ca2e1",
   "metadata": {
    "ExecuteTime": {
     "end_time": "2022-04-04T06:58:06.222632Z",
     "start_time": "2022-04-04T06:58:06.102689Z"
    }
   },
   "outputs": [
    {
     "name": "stdout",
     "output_type": "stream",
     "text": [
      "[[ 3.0517578e-05  6.1035156e-05  3.0517578e-05 ... -2.3193359e-03\n",
      "  -2.3803711e-03 -1.5258789e-03]]\n"
     ]
    },
    {
     "data": {
      "text/plain": [
       "<Figure size 432x288 with 0 Axes>"
      ]
     },
     "execution_count": 49,
     "metadata": {},
     "output_type": "execute_result"
    },
    {
     "data": {
      "text/plain": [
       "[<matplotlib.lines.Line2D at 0x7fd348c8e4f0>]"
      ]
     },
     "execution_count": 49,
     "metadata": {},
     "output_type": "execute_result"
    },
    {
     "data": {
      "image/png": "[encoded data removed]",
      "text/plain": [
       "<Figure size 432x288 with 1 Axes>"
      ]
     },
     "metadata": {
      "needs_background": "light"
     },
     "output_type": "display_data"
    }
   ],
   "source": [
    "import matplotlib.pyplot as plt\n",
    "\n",
    "print(data[0][0].numpy()) # 0번째 data의 waveform\n",
    "\n",
    "plt.figure()\n",
    "plt.plot(waveform.t().numpy()) # .numpy() : torch.Tensor -> numpy.ndarray로 변환"
   ]
  }
 ],
 "metadata": {
  "kernelspec": {
   "display_name": "Python 3 (ipykernel)",
   "language": "python",
   "name": "python3"
  },
  "language_info": {
   "codemirror_mode": {
    "name": "ipython",
    "version": 3
   },
   "file_extension": ".py",
   "mimetype": "text/x-python",
   "name": "python",
   "nbconvert_exporter": "python",
   "pygments_lexer": "ipython3",
   "version": "3.9.10"
  },
  "toc": {
   "base_numbering": 1,
   "nav_menu": {},
   "number_sections": true,
   "sideBar": true,
   "skip_h1_title": false,
   "title_cell": "Table of Contents",
   "title_sidebar": "Contents",
   "toc_cell": false,
   "toc_position": {},
   "toc_section_display": true,
   "toc_window_display": false
  }
 },
 "nbformat": 4,
 "nbformat_minor": 5
}
