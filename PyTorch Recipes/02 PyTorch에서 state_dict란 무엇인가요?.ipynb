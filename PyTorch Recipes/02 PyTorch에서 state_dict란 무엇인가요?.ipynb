{
 "cells": [
  {
   "cell_type": "code",
   "execution_count": 1,
   "id": "c4b738c7",
   "metadata": {
    "ExecuteTime": {
     "end_time": "2022-04-04T07:56:59.191419Z",
     "start_time": "2022-04-04T07:56:59.179012Z"
    }
   },
   "outputs": [],
   "source": [
    "# 결과 확인을 용이하게 하기 위한 코드\n",
    "from IPython.core.interactiveshell import InteractiveShell\n",
    "InteractiveShell.ast_node_interactivity = 'all'"
   ]
  },
  {
   "cell_type": "markdown",
   "id": "4899c205",
   "metadata": {},
   "source": [
    "- [PyTorch에서 state_dict란 무엇인가요?](https://tutorials.pytorch.kr/recipes/recipes/what_is_state_dict.html)\n",
    "- PyTorch에서 `torch.nn.Module` 모델의 학습 가능한 매개변수(ex. 가중치, 편향)들은 모델의 매개변수에 포함되어 있음\n",
    "    - `model.parameters()`로 접근함\n",
    "- `state_dict`는 간단히 말해 각 계층을 매개변수 텐서로 매핑하는 Python dict 개체임"
   ]
  },
  {
   "cell_type": "markdown",
   "id": "c4bcd972",
   "metadata": {},
   "source": [
    "# 개요\n",
    "- `state_dict`는 PyTorch에서 모델을 저장하거나 불러오는 데 필수적인 항목임\n",
    "- `state_dict` 객체는 Python 사전이기 때문에 쉽게 저장, 업데이트, 변경 및 복원할 수 있으며, 이는 PyTorch 모델과 optimizer에 엄청난 모듈성(modularity)을 제공함\n",
    "    - 이 때, 학습 가능한 매개변수를 갖는 계층(합성곱 계층, 선형 계층 등) 및 등록된 버퍼들만 모델의 `state_dict`\n",
    "- `torch.optim` 또한 optimizer의 상태 뿐만 아니라 사용된 hyperparameter 정보가 포함된 `state_dict`을 가짐\n",
    "- 레시피에서 `state_dict`이 간단한 모델이 어떻게 사용되는지 살펴볼 것임"
   ]
  },
  {
   "cell_type": "markdown",
   "id": "aadf2b7b",
   "metadata": {},
   "source": [
    "# 단계(Steps)\n",
    "1. 데이터를 불러올 때 필요한 모든 라이브러리 불러오기\n",
    "2. 신경망을 구성하고 초기화하기\n",
    "3. optimizer를 초기화하기\n",
    "4. 모델과 optimizer의 `state_dict` 접근하기"
   ]
  },
  {
   "cell_type": "markdown",
   "id": "48fa1915",
   "metadata": {},
   "source": [
    "## 데이터를 불러올 때 필요한 모든 라이브러리 불러오기\n",
    "- 이 레시피에서는 `torch`와 하위 패키지인 `torch.nn` 과 `torch.optim`을 사용할 것임"
   ]
  },
  {
   "cell_type": "code",
   "execution_count": 2,
   "id": "f727ec6d",
   "metadata": {
    "ExecuteTime": {
     "end_time": "2022-04-04T08:17:05.091674Z",
     "start_time": "2022-04-04T08:17:04.718165Z"
    }
   },
   "outputs": [],
   "source": [
    "import torch\n",
    "import torch.nn as nn\n",
    "import torch.optim as optim"
   ]
  },
  {
   "cell_type": "markdown",
   "id": "af5b44e3",
   "metadata": {},
   "source": [
    "## 신경망을 구성하고 초기화하기\n",
    "- 예시를 보이기 위해 이미지를 학습하는 신경망을 만들어볼 것임"
   ]
  },
  {
   "cell_type": "code",
   "execution_count": 5,
   "id": "236a89be",
   "metadata": {
    "ExecuteTime": {
     "end_time": "2022-04-04T08:29:53.534276Z",
     "start_time": "2022-04-04T08:29:53.526603Z"
    }
   },
   "outputs": [
    {
     "name": "stdout",
     "output_type": "stream",
     "text": [
      "Net(\n",
      "  (conv1): Conv2d(3, 6, kernel_size=(5, 5), stride=(1, 1))\n",
      "  (pool): MaxPool2d(kernel_size=2, stride=2, padding=0, dilation=1, ceil_mode=False)\n",
      "  (conv2): Conv2d(6, 16, kernel_size=(5, 5), stride=(1, 1))\n",
      "  (fc1): Linear(in_features=400, out_features=120, bias=True)\n",
      "  (fc2): Linear(in_features=120, out_features=84, bias=True)\n",
      "  (fc3): Linear(in_features=84, out_features=10, bias=True)\n",
      ")\n"
     ]
    }
   ],
   "source": [
    "class Net(nn.Module):\n",
    "    def __init__(self):\n",
    "        super(Net, self).__init__()\n",
    "        self.conv1 = nn.Conv2d(3, 6, 5) # in_channel, out_channel, kernel_size\n",
    "        self.pool = nn.MaxPool2d(2, 2)\n",
    "        self.conv2 = nn.Conv2d(6, 16, 5) # in_channel, out_channel, kernel_size\n",
    "        self.fc1 = nn.Linear(16 * 5 * 5, 120)\n",
    "        self.fc2 = nn.Linear(120, 84)\n",
    "        self.fc3 = nn.Linear(84, 10)\n",
    "    \n",
    "    def forward(self, x):\n",
    "        x = self.pool(F.relu(self.conv1(x)))\n",
    "        x = self.pool(F.relu(self.conv2(x)))\n",
    "        x = x.view(-1, 16 * 5 * 5)\n",
    "        x = F.relu(self.fc1(x))\n",
    "        x = F.relu(self.fc2(x))\n",
    "        x = self.fc3(x)\n",
    "        return x\n",
    "\n",
    "net = Net()\n",
    "print(net)"
   ]
  },
  {
   "cell_type": "markdown",
   "id": "4b353d1d",
   "metadata": {},
   "source": [
    "## 옵티마이저 초기화하기\n",
    "- 모멘텀(momentum)을 갖는 SGD를 사용할 것임"
   ]
  },
  {
   "cell_type": "code",
   "execution_count": 6,
   "id": "6b368f8c",
   "metadata": {
    "ExecuteTime": {
     "end_time": "2022-04-04T08:31:49.897251Z",
     "start_time": "2022-04-04T08:31:49.894404Z"
    }
   },
   "outputs": [],
   "source": [
    "optimizer = optim.SGD(net.parameters(), lr=0.001, momentum=0.9)"
   ]
  },
  {
   "cell_type": "markdown",
   "id": "ca38acba",
   "metadata": {},
   "source": [
    "## 모델과 옵티마이저의 `state_dict` 접근하기\n",
    "- 이제 모델과 옵티마이저를 구성했으므로 각각의 `state_dict` 속성에 저장되어 있는 항목을 확인할 수 있음"
   ]
  },
  {
   "cell_type": "code",
   "execution_count": 12,
   "id": "ea329198",
   "metadata": {
    "ExecuteTime": {
     "end_time": "2022-04-04T08:39:25.371035Z",
     "start_time": "2022-04-04T08:39:25.362520Z"
    },
    "scrolled": true
   },
   "outputs": [
    {
     "name": "stdout",
     "output_type": "stream",
     "text": [
      "Model's state_dict:\n",
      "conv1.weight \t torch.Size([6, 3, 5, 5])\n",
      "conv1.bias \t torch.Size([6])\n",
      "conv2.weight \t torch.Size([16, 6, 5, 5])\n",
      "conv2.bias \t torch.Size([16])\n",
      "fc1.weight \t torch.Size([120, 400])\n",
      "fc1.bias \t torch.Size([120])\n",
      "fc2.weight \t torch.Size([84, 120])\n",
      "fc2.bias \t torch.Size([84])\n",
      "fc3.weight \t torch.Size([10, 84])\n",
      "fc3.bias \t torch.Size([10])\n",
      "\n",
      "Optimizer's state_dict:\n",
      "state \t {}\n",
      "param_groups \t [{'lr': 0.001, 'momentum': 0.9, 'dampening': 0, 'weight_decay': 0, 'nesterov': False, 'maximize': False, 'params': [0, 1, 2, 3, 4, 5, 6, 7, 8, 9]}]\n"
     ]
    }
   ],
   "source": [
    "# 모델의 state_dict 출력\n",
    "print(\"Model's state_dict:\")\n",
    "for param_tensor in net.state_dict():\n",
    "    print(param_tensor, '\\t', net.state_dict()[param_tensor].size())\n",
    "\n",
    "print()\n",
    "\n",
    "# 옵티마이저의 state_dict 출력\n",
    "print(\"Optimizer's state_dict:\")\n",
    "for var_name in optimizer.state_dict():\n",
    "    print(var_name, '\\t', optimizer.state_dict()[var_name])"
   ]
  },
  {
   "cell_type": "markdown",
   "id": "79f6b3eb",
   "metadata": {},
   "source": [
    "위 정보는 향후 모델 및 옵티마이저를 저장하고 불러오는 것과 관련이 있음"
   ]
  }
 ],
 "metadata": {
  "kernelspec": {
   "display_name": "Python 3 (ipykernel)",
   "language": "python",
   "name": "python3"
  },
  "language_info": {
   "codemirror_mode": {
    "name": "ipython",
    "version": 3
   },
   "file_extension": ".py",
   "mimetype": "text/x-python",
   "name": "python",
   "nbconvert_exporter": "python",
   "pygments_lexer": "ipython3",
   "version": "3.9.10"
  },
  "toc": {
   "base_numbering": 1,
   "nav_menu": {},
   "number_sections": true,
   "sideBar": true,
   "skip_h1_title": false,
   "title_cell": "Table of Contents",
   "title_sidebar": "Contents",
   "toc_cell": false,
   "toc_position": {},
   "toc_section_display": true,
   "toc_window_display": false
  }
 },
 "nbformat": 4,
 "nbformat_minor": 5
}
