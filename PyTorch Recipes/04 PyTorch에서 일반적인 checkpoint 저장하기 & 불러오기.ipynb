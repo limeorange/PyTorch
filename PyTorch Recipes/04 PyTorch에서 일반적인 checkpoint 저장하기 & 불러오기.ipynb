{
 "cells": [
  {
   "cell_type": "code",
   "execution_count": 1,
   "id": "bab6f72f",
   "metadata": {
    "ExecuteTime": {
     "end_time": "2022-04-04T09:17:17.566381Z",
     "start_time": "2022-04-04T09:17:17.553788Z"
    }
   },
   "outputs": [],
   "source": [
    "# 결과 확인을 용이하게 하기 위한 코드\n",
    "from IPython.core.interactiveshell import InteractiveShell\n",
    "InteractiveShell.ast_node_interactivity = 'all'"
   ]
  },
  {
   "cell_type": "markdown",
   "id": "1086ec33",
   "metadata": {},
   "source": [
    "- [04 PyTorch에서 일반적인 checkpoint 저장하기 & 불러오기](https://tutorials.pytorch.kr/recipes/recipes/saving_and_loading_a_general_checkpoint.html)\n",
    "- 추론(inference) 또는 학습(training)의 재개를 위해 체크포인트(checkpoint) 모델을 저장하고 불러오는 것은 마지막으로 중단했던 부분을 선택하는데 도움을 줄 수 있음\n",
    "- 체크포인트를 저장할 때는 단순히 모델의 state_dict 이상의 것을 저장해야 함\n",
    "- 모델 학습 중에 갱신되는 퍼버와 매개변수들을 포함하는 옵티마이저(Optimizer)의 state_dict를 함께 저장하는 것이 중요함\n",
    "- 이 외에도 중단 시점의 에포크(epoch), 마지막으로 기록된 학습 오차(training loss), 외부 torch.nn.Embedding 계층 등, 알고리즘에 따라 저장하고 싶은 항목들이 있을 것임"
   ]
  },
  {
   "cell_type": "markdown",
   "id": "e67f69e5",
   "metadata": {},
   "source": [
    "# 개요\n",
    "- 여러 체크포인트들을 저장하기 위해서는 사전(dictionary)에 체크포인트들을 구성하고 torch.save()를 사용하여 사전을 직렬화(serialize)해야 함\n",
    "- 일반적인 PyTorch에서는 이러한 여러 체크포인트들을 저장할 때 .tar 확장자를 사용하는 것이 일반적인 규칙임\n",
    "- 항목들을 불러올 때에는, 먼저 모델과 옵티마이저를 초기화하고, torch.load()를 사용하여 사전을 불러옴\n",
    "- 이후 원하는대로 저장한 항목들을 사전에 조회하여 접근할 수 있습니다.\n",
    "- 이 레시피에서는 여러 체크포인트들을 어떻게 저장하고 불러오는지 살펴보겠습니다."
   ]
  },
  {
   "cell_type": "markdown",
   "id": "79a71898",
   "metadata": {},
   "source": [
    "# 단계\n",
    "1. 데이터 불러올 때 필요한 라이브러리들 불러오기\n",
    "2. 신경망을 구성하고 초기화하기\n",
    "3. 옵티마이저 초기화하기\n",
    "4. 일반적인 체크포인트 저장하기\n",
    "5. 일반적인 체크포인트 불러오기"
   ]
  },
  {
   "cell_type": "markdown",
   "id": "2c6fa194",
   "metadata": {},
   "source": [
    "## 데이터 불러올 때 필요한 라이브러리들 불러오기\n",
    "- `torch`와 여기 포함된 `torch.nn`과 `torch.optim`을 사용할 것임"
   ]
  },
  {
   "cell_type": "code",
   "execution_count": 2,
   "id": "cf6f8407",
   "metadata": {
    "ExecuteTime": {
     "end_time": "2022-04-04T09:21:07.592548Z",
     "start_time": "2022-04-04T09:21:07.223075Z"
    }
   },
   "outputs": [],
   "source": [
    "import torch\n",
    "import torch.nn as nn\n",
    "import torch.optim as optim"
   ]
  },
  {
   "cell_type": "markdown",
   "id": "a5d4c497",
   "metadata": {},
   "source": [
    "## 신경망을 구성하고 초기화하기"
   ]
  },
  {
   "cell_type": "code",
   "execution_count": 3,
   "id": "37a9dd93",
   "metadata": {
    "ExecuteTime": {
     "end_time": "2022-04-04T09:21:35.554728Z",
     "start_time": "2022-04-04T09:21:35.547902Z"
    }
   },
   "outputs": [
    {
     "name": "stdout",
     "output_type": "stream",
     "text": [
      "Net(\n",
      "  (conv1): Conv2d(3, 6, kernel_size=(5, 5), stride=(1, 1))\n",
      "  (pool): MaxPool2d(kernel_size=2, stride=2, padding=0, dilation=1, ceil_mode=False)\n",
      "  (conv2): Conv2d(6, 16, kernel_size=(5, 5), stride=(1, 1))\n",
      "  (fc1): Linear(in_features=400, out_features=120, bias=True)\n",
      "  (fc2): Linear(in_features=120, out_features=84, bias=True)\n",
      "  (fc3): Linear(in_features=84, out_features=10, bias=True)\n",
      ")\n"
     ]
    }
   ],
   "source": [
    "class Net(nn.Module):\n",
    "    def __init__(self):\n",
    "        super(Net, self).__init__()\n",
    "        self.conv1 = nn.Conv2d(3, 6, 5)\n",
    "        self.pool = nn.MaxPool2d(2, 2)\n",
    "        self.conv2 = nn.Conv2d(6, 16, 5)\n",
    "        self.fc1 = nn.Linear(16 * 5 * 5, 120)\n",
    "        self.fc2 = nn.Linear(120, 84)\n",
    "        self.fc3 = nn.Linear(84, 10)\n",
    "\n",
    "    def forward(self, x):\n",
    "        x = self.pool(F.relu(self.conv1(x)))\n",
    "        x = self.pool(F.relu(self.conv2(x)))\n",
    "        x = x.view(-1, 16 * 5 * 5)\n",
    "        x = F.relu(self.fc1(x))\n",
    "        x = F.relu(self.fc2(x))\n",
    "        x = self.fc3(x)\n",
    "        return x\n",
    "\n",
    "net = Net()\n",
    "print(net)"
   ]
  },
  {
   "cell_type": "markdown",
   "id": "3a469e8b",
   "metadata": {},
   "source": [
    "## 옵티마이저 초기화하기\n",
    "- momentum을 갖는 SGD를 사용하기"
   ]
  },
  {
   "cell_type": "code",
   "execution_count": 4,
   "id": "54cf8537",
   "metadata": {
    "ExecuteTime": {
     "end_time": "2022-04-04T09:22:03.465105Z",
     "start_time": "2022-04-04T09:22:03.462376Z"
    }
   },
   "outputs": [],
   "source": [
    "optimizer = optim.SGD(net.parameters(), lr=0.001, momentum=0.9)"
   ]
  },
  {
   "cell_type": "markdown",
   "id": "ce2f9d9f",
   "metadata": {},
   "source": [
    "## 일반적인 체크포인트 저장하기\n",
    "- 관련된 모든 정보들을 모아서 사전을 구성하기"
   ]
  },
  {
   "cell_type": "code",
   "execution_count": 5,
   "id": "2279cb7a",
   "metadata": {
    "ExecuteTime": {
     "end_time": "2022-04-04T09:26:34.547816Z",
     "start_time": "2022-04-04T09:26:34.543013Z"
    }
   },
   "outputs": [],
   "source": [
    "# 추가 정보\n",
    "EPOCH = 5\n",
    "PATH = 'model.pt'\n",
    "LOSS = 0.4\n",
    "\n",
    "torch.save({'epoch': EPOCH,\n",
    "            'model_state_dict': net.state_dict(),\n",
    "            'optimizer_state_dict': optimizer.state_dict(),\n",
    "            'loss': LOSS}, PATH)"
   ]
  },
  {
   "cell_type": "markdown",
   "id": "9954205e",
   "metadata": {},
   "source": [
    "## 일반적인 체크포인트 불러오기\n",
    "- 먼저 모델과 옵티마이저를 초기화한 뒤, 사전을 불러오는 것을 기억하기!"
   ]
  },
  {
   "cell_type": "code",
   "execution_count": 16,
   "id": "dc9e6d1b",
   "metadata": {
    "ExecuteTime": {
     "end_time": "2022-04-04T09:31:56.944337Z",
     "start_time": "2022-04-04T09:31:56.931775Z"
    }
   },
   "outputs": [
    {
     "data": {
      "text/plain": [
       "<All keys matched successfully>"
      ]
     },
     "execution_count": 16,
     "metadata": {},
     "output_type": "execute_result"
    },
    {
     "data": {
      "text/plain": [
       "Net(\n",
       "  (conv1): Conv2d(3, 6, kernel_size=(5, 5), stride=(1, 1))\n",
       "  (pool): MaxPool2d(kernel_size=2, stride=2, padding=0, dilation=1, ceil_mode=False)\n",
       "  (conv2): Conv2d(6, 16, kernel_size=(5, 5), stride=(1, 1))\n",
       "  (fc1): Linear(in_features=400, out_features=120, bias=True)\n",
       "  (fc2): Linear(in_features=120, out_features=84, bias=True)\n",
       "  (fc3): Linear(in_features=84, out_features=10, bias=True)\n",
       ")"
      ]
     },
     "execution_count": 16,
     "metadata": {},
     "output_type": "execute_result"
    },
    {
     "data": {
      "text/plain": [
       "Net(\n",
       "  (conv1): Conv2d(3, 6, kernel_size=(5, 5), stride=(1, 1))\n",
       "  (pool): MaxPool2d(kernel_size=2, stride=2, padding=0, dilation=1, ceil_mode=False)\n",
       "  (conv2): Conv2d(6, 16, kernel_size=(5, 5), stride=(1, 1))\n",
       "  (fc1): Linear(in_features=400, out_features=120, bias=True)\n",
       "  (fc2): Linear(in_features=120, out_features=84, bias=True)\n",
       "  (fc3): Linear(in_features=84, out_features=10, bias=True)\n",
       ")"
      ]
     },
     "execution_count": 16,
     "metadata": {},
     "output_type": "execute_result"
    }
   ],
   "source": [
    "model = Net()\n",
    "optimizer = optim.SGD(net.parameters(), lr=0.001, momentum=0.9)\n",
    "\n",
    "checkpoint = torch.load(PATH)\n",
    "model.load_state_dict(checkpoint['model_state_dict'])\n",
    "optimizer.load_state_dict(checkpoint['optimizer_state_dict'])\n",
    "epoch = checkpoint['epoch']\n",
    "loss = checkpoint['loss']\n",
    "\n",
    "model.eval()\n",
    "# 또는\n",
    "model.train()"
   ]
  },
  {
   "cell_type": "markdown",
   "id": "f3f122bd",
   "metadata": {},
   "source": [
    "- 추론(inference)을 실행하기 전에 `model.eval()`을 호출하여 dropout과 batch normalization layer를 evaluation 모드로 바꾸기\n",
    "    - 이것을 빼먹으면 일관성 없는 추론 결과를 얻게 됨\n",
    "- 만약 학습을 계속하길 원한다면 `model.train()`을 호출하여 이 층(layer)들이 학습 모드인지 확인(ensure)하기"
   ]
  }
 ],
 "metadata": {
  "kernelspec": {
   "display_name": "Python 3 (ipykernel)",
   "language": "python",
   "name": "python3"
  },
  "language_info": {
   "codemirror_mode": {
    "name": "ipython",
    "version": 3
   },
   "file_extension": ".py",
   "mimetype": "text/x-python",
   "name": "python",
   "nbconvert_exporter": "python",
   "pygments_lexer": "ipython3",
   "version": "3.9.10"
  },
  "toc": {
   "base_numbering": 1,
   "nav_menu": {},
   "number_sections": true,
   "sideBar": true,
   "skip_h1_title": false,
   "title_cell": "Table of Contents",
   "title_sidebar": "Contents",
   "toc_cell": false,
   "toc_position": {},
   "toc_section_display": true,
   "toc_window_display": false
  }
 },
 "nbformat": 4,
 "nbformat_minor": 5
}
