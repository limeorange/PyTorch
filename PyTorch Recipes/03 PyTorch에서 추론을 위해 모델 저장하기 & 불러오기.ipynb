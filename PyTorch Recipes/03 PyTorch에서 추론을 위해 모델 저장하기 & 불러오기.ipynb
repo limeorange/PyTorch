{
 "cells": [
  {
   "cell_type": "code",
   "execution_count": 1,
   "id": "4b2258ed",
   "metadata": {
    "ExecuteTime": {
     "end_time": "2022-04-04T08:41:52.748931Z",
     "start_time": "2022-04-04T08:41:52.737009Z"
    }
   },
   "outputs": [],
   "source": [
    "# 결과 확인을 용이하게 하기 위한 코드\n",
    "from IPython.core.interactiveshell import InteractiveShell\n",
    "InteractiveShell.ast_node_interactivity = 'all'"
   ]
  },
  {
   "cell_type": "markdown",
   "id": "abf4d970",
   "metadata": {},
   "source": [
    "- [PyTorch에서 추론을 위해 모델 저장하기 & 불러오기](https://tutorials.pytorch.kr/recipes/recipes/saving_and_loading_models_for_inference.html)\n",
    "- PyTorch에서는 추론(inference)을 위해 모델을 저장하고 불러오는데 2가지 접근법이 있음\n",
    "    - 1) 첫 번째는 `state_dict`를 저장하고 불러오는 것\n",
    "    - 2) 두 번째는 전체 모델을 저장하는 것"
   ]
  },
  {
   "cell_type": "markdown",
   "id": "b0e75854",
   "metadata": {},
   "source": [
    "# 개요\n",
    "- torch.save() 함수를 사용하여 모델의 `state_dict`를 저장하면 이후에 모델을 불러올 때 유연함을 크게 살릴 수 있음\n",
    "- 학습된 모델의 매개변수(parameter)만을 저장하면 되므로 모델 저장 시에 권장되는 방법임\n",
    "- 모델 전체를 저장하고 불러올 때에는 Python의 pickle 모듈을 사용하여 전체 모듈을 저장함\n",
    "    - 이 방식은 직관적인 문법을 사용하며 코드의 양도 적음\n",
    "    - 단점은 직렬화(serialized)된 데이터가 모델을 저장할 때 사용한 특정 클래스 및 디렉토리 구조에 종속(bind)된다는 것임\n",
    "        - 그 이유는 pickle이 모델 클래스 자체를 저장하지 않고 불러올 때 사용되는 클래스가 포함된 파일의 경로를 저장함 \n",
    "        - 이 때문에 작성한 코드가 다른 프로젝트에서 사용되거나 리팩토링을 거치는 등의 과정에서 동작하지 않을 수 있음\n",
    "- 추론을 위해 모델을 저장하고 불러오는 두 가지 방법 모두를 살펴볼 것임"
   ]
  },
  {
   "cell_type": "markdown",
   "id": "f78eacda",
   "metadata": {},
   "source": [
    "# 단계(Steps)\n",
    "1. 데이터 불러올 때 필요한 라이브러리들 불러오기\n",
    "2. 신경망을 구성하고 초기화하기\n",
    "3. 옵티마이저 초기화하기\n",
    "4. `state_dict`를 통해 모델을 저장하고 불러오기\n",
    "5. 전체 모델을 저장하고 불러오기"
   ]
  },
  {
   "cell_type": "markdown",
   "id": "885b365c",
   "metadata": {},
   "source": [
    "## 데이터 불러올 때 필요한 라이브러리들 불러오기\n",
    "- `torch`와 여기 포함된 `torch.nn`과 `torch.optim`을 사용할 것임"
   ]
  },
  {
   "cell_type": "code",
   "execution_count": 2,
   "id": "52b5900a",
   "metadata": {
    "ExecuteTime": {
     "end_time": "2022-04-04T08:55:37.390513Z",
     "start_time": "2022-04-04T08:55:37.016263Z"
    }
   },
   "outputs": [],
   "source": [
    "import torch\n",
    "import torch.nn as nn\n",
    "import torch.optim as optim"
   ]
  },
  {
   "cell_type": "markdown",
   "id": "378eef74",
   "metadata": {},
   "source": [
    "## 신경망을 구성하고 초기화하기\n",
    "- 예를 들기 위해, 이미지를 학습하는 신경망을 만들어볼 것임"
   ]
  },
  {
   "cell_type": "code",
   "execution_count": 5,
   "id": "2eac4223",
   "metadata": {
    "ExecuteTime": {
     "end_time": "2022-04-04T09:00:00.893994Z",
     "start_time": "2022-04-04T09:00:00.886699Z"
    }
   },
   "outputs": [
    {
     "name": "stdout",
     "output_type": "stream",
     "text": [
      "Net(\n",
      "  (conv1): Conv2d(3, 6, kernel_size=(5, 5), stride=(1, 1))\n",
      "  (pool): MaxPool2d(kernel_size=2, stride=2, padding=0, dilation=1, ceil_mode=False)\n",
      "  (conv2): Conv2d(6, 16, kernel_size=(5, 5), stride=(1, 1))\n",
      "  (fc1): Linear(in_features=400, out_features=120, bias=True)\n",
      "  (fc2): Linear(in_features=120, out_features=84, bias=True)\n",
      "  (fc3): Linear(in_features=84, out_features=10, bias=True)\n",
      ")\n"
     ]
    }
   ],
   "source": [
    "class Net(nn.Module):\n",
    "    def __init__(self):\n",
    "        super(Net, self).__init__()\n",
    "        self.conv1 = nn.Conv2d(3, 6, 5)\n",
    "        self.pool = nn.MaxPool2d(2, 2)\n",
    "        self.conv2 = nn.Conv2d(6, 16, 5)\n",
    "        self.fc1 = nn.Linear(16 * 5 * 5, 120)\n",
    "        self.fc2 = nn.Linear(120, 84)\n",
    "        self.fc3 = nn.Linear(84, 10)\n",
    "    \n",
    "    def forward(self, x):\n",
    "        x = self.pool(F.relu(self.conv1(x)))\n",
    "        x = self.pook(F.relu(self.conv2(x)))\n",
    "        x = x.view(-1, 16 * 5 * 5)\n",
    "        x = F.relu(self.fc1(x))\n",
    "        x = F.relu(self.fc2(x))\n",
    "        x = self.fc3(x)\n",
    "        return x\n",
    "\n",
    "net = Net()\n",
    "print(net)"
   ]
  },
  {
   "cell_type": "markdown",
   "id": "3ae6422e",
   "metadata": {},
   "source": [
    "## 옵티마이저 초기화하기\n",
    "- momentum을 갖는 SGD를 사용할 것임"
   ]
  },
  {
   "cell_type": "code",
   "execution_count": 6,
   "id": "ef207f11",
   "metadata": {
    "ExecuteTime": {
     "end_time": "2022-04-04T09:01:04.964910Z",
     "start_time": "2022-04-04T09:01:04.961972Z"
    }
   },
   "outputs": [],
   "source": [
    "optimizer = optim.SGD(net.parameters(), lr=0.001, momentum=0.9)"
   ]
  },
  {
   "cell_type": "code",
   "execution_count": 19,
   "id": "fa3a7754",
   "metadata": {
    "ExecuteTime": {
     "end_time": "2022-04-04T09:05:36.045093Z",
     "start_time": "2022-04-04T09:05:36.029681Z"
    }
   },
   "outputs": [
    {
     "data": {
      "text/plain": [
       "torch.Size([6, 3, 5, 5])"
      ]
     },
     "execution_count": 19,
     "metadata": {},
     "output_type": "execute_result"
    },
    {
     "data": {
      "text/plain": [
       "torch.Size([6])"
      ]
     },
     "execution_count": 19,
     "metadata": {},
     "output_type": "execute_result"
    },
    {
     "data": {
      "text/plain": [
       "torch.Size([16, 6, 5, 5])"
      ]
     },
     "execution_count": 19,
     "metadata": {},
     "output_type": "execute_result"
    },
    {
     "data": {
      "text/plain": [
       "torch.Size([16])"
      ]
     },
     "execution_count": 19,
     "metadata": {},
     "output_type": "execute_result"
    },
    {
     "data": {
      "text/plain": [
       "torch.Size([120, 400])"
      ]
     },
     "execution_count": 19,
     "metadata": {},
     "output_type": "execute_result"
    },
    {
     "data": {
      "text/plain": [
       "torch.Size([120])"
      ]
     },
     "execution_count": 19,
     "metadata": {},
     "output_type": "execute_result"
    },
    {
     "data": {
      "text/plain": [
       "torch.Size([84, 120])"
      ]
     },
     "execution_count": 19,
     "metadata": {},
     "output_type": "execute_result"
    },
    {
     "data": {
      "text/plain": [
       "torch.Size([84])"
      ]
     },
     "execution_count": 19,
     "metadata": {},
     "output_type": "execute_result"
    },
    {
     "data": {
      "text/plain": [
       "torch.Size([10, 84])"
      ]
     },
     "execution_count": 19,
     "metadata": {},
     "output_type": "execute_result"
    },
    {
     "data": {
      "text/plain": [
       "torch.Size([10])"
      ]
     },
     "execution_count": 19,
     "metadata": {},
     "output_type": "execute_result"
    }
   ],
   "source": [
    "# net.parameters() : 매 층의 parameters\n",
    "params = list(net.parameters())\n",
    "for i in range(len(params)):\n",
    "    params[i].shape"
   ]
  },
  {
   "cell_type": "markdown",
   "id": "1f34c1c0",
   "metadata": {},
   "source": [
    "## `state_dict`를 통해 모델을 저장하고 불러오기"
   ]
  },
  {
   "cell_type": "code",
   "execution_count": 22,
   "id": "4f0f8923",
   "metadata": {
    "ExecuteTime": {
     "end_time": "2022-04-04T09:08:34.283789Z",
     "start_time": "2022-04-04T09:08:34.269142Z"
    }
   },
   "outputs": [
    {
     "data": {
      "text/plain": [
       "<All keys matched successfully>"
      ]
     },
     "execution_count": 22,
     "metadata": {},
     "output_type": "execute_result"
    },
    {
     "data": {
      "text/plain": [
       "Net(\n",
       "  (conv1): Conv2d(3, 6, kernel_size=(5, 5), stride=(1, 1))\n",
       "  (pool): MaxPool2d(kernel_size=2, stride=2, padding=0, dilation=1, ceil_mode=False)\n",
       "  (conv2): Conv2d(6, 16, kernel_size=(5, 5), stride=(1, 1))\n",
       "  (fc1): Linear(in_features=400, out_features=120, bias=True)\n",
       "  (fc2): Linear(in_features=120, out_features=84, bias=True)\n",
       "  (fc3): Linear(in_features=84, out_features=10, bias=True)\n",
       ")"
      ]
     },
     "execution_count": 22,
     "metadata": {},
     "output_type": "execute_result"
    }
   ],
   "source": [
    "# 경로 지정\n",
    "PATH = 'state_dict_model.pt'\n",
    "\n",
    "# 저장하기\n",
    "torch.save(net.state_dict(), PATH)\n",
    "\n",
    "# 불러오기\n",
    "model = Net()\n",
    "model.load_state_dict(torch.load(PATH))\n",
    "model.eval()"
   ]
  },
  {
   "cell_type": "markdown",
   "id": "a01ed3a4",
   "metadata": {},
   "source": [
    "- PyTorch에는 `.pt` 또는 `.pth` 확장자를 사용하는 것이 일반적인 규칙임\n",
    "- `load_state_dict()` 함수는 저장된 객체의 경로가 아닌 사전 객체를 사용함\n",
    "    - 즉, 저장된 state_dict를 `load_state_dict()` 함수에 전달하기 전에 반드시 역직렬화(deserialize)를 해야 함\n",
    "    - 예를 들어, `model.load_state_dict(PATH)`와 같이 사용할 수 없음\n",
    "- 추론을 수행하기 전에 `model.eval()`을 호출하여 dropout과 batch normalization layers를 evaluation 모드로 바꿔야 함을 기억하기!\n",
    "    - 이를 빼먹으면 일관성 없는 추론 결과를 얻게 됨"
   ]
  },
  {
   "cell_type": "markdown",
   "id": "3559ceb3",
   "metadata": {},
   "source": [
    "## 전체 모델을 저장하고 불러오기"
   ]
  },
  {
   "cell_type": "code",
   "execution_count": 23,
   "id": "2e16ab43",
   "metadata": {
    "ExecuteTime": {
     "end_time": "2022-04-04T09:13:53.901514Z",
     "start_time": "2022-04-04T09:13:53.888082Z"
    }
   },
   "outputs": [
    {
     "data": {
      "text/plain": [
       "Net(\n",
       "  (conv1): Conv2d(3, 6, kernel_size=(5, 5), stride=(1, 1))\n",
       "  (pool): MaxPool2d(kernel_size=2, stride=2, padding=0, dilation=1, ceil_mode=False)\n",
       "  (conv2): Conv2d(6, 16, kernel_size=(5, 5), stride=(1, 1))\n",
       "  (fc1): Linear(in_features=400, out_features=120, bias=True)\n",
       "  (fc2): Linear(in_features=120, out_features=84, bias=True)\n",
       "  (fc3): Linear(in_features=84, out_features=10, bias=True)\n",
       ")"
      ]
     },
     "execution_count": 23,
     "metadata": {},
     "output_type": "execute_result"
    }
   ],
   "source": [
    "# 경로 지정\n",
    "PATH = 'entire_model.pt'\n",
    "\n",
    "# 저장하기\n",
    "torch.save(net, PATH)\n",
    "\n",
    "# 불러오기\n",
    "model = torch.load(PATH)\n",
    "model.eval()"
   ]
  },
  {
   "cell_type": "markdown",
   "id": "4a771821",
   "metadata": {},
   "source": [
    "여기서도 또한 `model.eval()`을 실행하여 dropout과 batch normalization layers를 evaluation 모드로 바꿔야한다는 것을 기억하기"
   ]
  }
 ],
 "metadata": {
  "kernelspec": {
   "display_name": "Python 3 (ipykernel)",
   "language": "python",
   "name": "python3"
  },
  "language_info": {
   "codemirror_mode": {
    "name": "ipython",
    "version": 3
   },
   "file_extension": ".py",
   "mimetype": "text/x-python",
   "name": "python",
   "nbconvert_exporter": "python",
   "pygments_lexer": "ipython3",
   "version": "3.9.10"
  },
  "toc": {
   "base_numbering": 1,
   "nav_menu": {},
   "number_sections": true,
   "sideBar": true,
   "skip_h1_title": false,
   "title_cell": "Table of Contents",
   "title_sidebar": "Contents",
   "toc_cell": false,
   "toc_position": {},
   "toc_section_display": true,
   "toc_window_display": false
  }
 },
 "nbformat": 4,
 "nbformat_minor": 5
}
